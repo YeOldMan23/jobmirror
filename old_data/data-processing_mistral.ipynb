{
 "cells": [
  {
   "cell_type": "code",
   "execution_count": 1,
   "id": "9ffce314",
   "metadata": {},
   "outputs": [
    {
     "name": "stderr",
     "output_type": "stream",
     "text": [
      "/usr/local/lib/python3.12/site-packages/tqdm/auto.py:21: TqdmWarning: IProgress not found. Please update jupyter and ipywidgets. See https://ipywidgets.readthedocs.io/en/stable/user_install.html\n",
      "  from .autonotebook import tqdm as notebook_tqdm\n"
     ]
    }
   ],
   "source": [
    "import pandas as pd\n",
    "import os\n",
    "import datetime\n",
    "import dateparser\n",
    "import numpy as np\n",
    "from dotenv import load_dotenv\n",
    "import json\n",
    "from tqdm import tqdm\n",
    "import string\n",
    "\n",
    "from mistralai import Mistral\n",
    "from datasets import load_dataset\n",
    "from huggingface_hub import login\n",
    "from pymongo.mongo_client import MongoClient\n",
    "from pymongo.server_api import ServerApi\n",
    "\n",
    "from pydantic import BaseModel, Field\n",
    "from typing import List, Optional, get_origin, get_args, Union\n",
    "from langchain.output_parsers import PydanticOutputParser\n",
    "from langchain_google_genai import ChatGoogleGenerativeAI, GoogleGenerativeAIEmbeddings\n",
    "from langchain.prompts import ChatPromptTemplate\n",
    "from langchain.output_parsers import ResponseSchema, StructuredOutputParser\n",
    "\n",
    "from pyspark.sql import SparkSession\n",
    "from pyspark.sql.types import ArrayType, StringType, IntegerType, FloatType, BooleanType, TimestampType, StructField, StructType\n",
    "from pyspark.sql.functions import count\n",
    "\n",
    "\n",
    "from utils.mongodb_utils import read_bronze_table_as_pyspark, read_bronze_table_as_pandas"
   ]
  },
  {
   "cell_type": "markdown",
   "id": "a0bddc93",
   "metadata": {},
   "source": [
    "# SOURCE"
   ]
  },
  {
   "cell_type": "code",
   "execution_count": 2,
   "id": "15322ef6",
   "metadata": {},
   "outputs": [],
   "source": [
    "dataset = load_dataset(\"cnamuangtoun/resume-job-description-fit\")\n",
    "df = dataset[\"train\"].to_pandas()\n"
   ]
  },
  {
   "cell_type": "code",
   "execution_count": 3,
   "id": "cf38c501",
   "metadata": {},
   "outputs": [],
   "source": [
    "load_dotenv()\n",
    "os.environ[\"MISTRAL_API_KEY\"] = os.getenv(\"MISTRAL_API_KEY\")"
   ]
  },
  {
   "cell_type": "code",
   "execution_count": 4,
   "id": "a91b2920-fae1-41e2-a379-688a6a23bfa8",
   "metadata": {},
   "outputs": [],
   "source": [
    "mistral = Mistral(api_key=os.environ.get(\"MISTRAL_API_KEY\"))\n"
   ]
  },
  {
   "cell_type": "markdown",
   "id": "ad09600e-cc2b-49e4-bdc1-85d9111b8f99",
   "metadata": {},
   "source": [
    "Generate random snapshot dates"
   ]
  },
  {
   "cell_type": "code",
   "execution_count": 410,
   "id": "b2b7f880-f9dc-48c3-8ff6-b9e6020e35f2",
   "metadata": {},
   "outputs": [],
   "source": [
    "# Create a seeded Generator\n",
    "rng = np.random.default_rng(seed=42)\n",
    "\n",
    "# Define start and end date\n",
    "start_date = pd.to_datetime('2024-01-01')\n",
    "end_date = pd.to_datetime('2025-01-01')\n",
    "\n",
    "# Generate random timestamps between start_date and end_date\n",
    "random_dates = pd.to_datetime(\n",
    "    rng.uniform(start_date.value, end_date.value, size=len(df))\n",
    ")\n",
    "\n",
    "# Ensure it's treated as a pandas Series and convert to date\n",
    "df['snapshot_date'] = pd.Series(random_dates).dt.date  # This will convert to date format"
   ]
  },
  {
   "cell_type": "markdown",
   "id": "66030faf-5e3d-41f8-b884-6c6897952e6d",
   "metadata": {},
   "source": [
    "Generate random IDs"
   ]
  },
  {
   "cell_type": "code",
   "execution_count": null,
   "id": "1ff68f2a-f7a7-4d7c-86e5-83c0c515bc0e",
   "metadata": {},
   "outputs": [],
   "source": [
    "def generate_random_id(prefix: str, length=8, use_digits=True, use_letters=True, seed=42):\n",
    "    rng = np.random.default_rng(seed=seed) \n",
    "\n",
    "    characters = ''\n",
    "    \n",
    "    if use_digits:\n",
    "        characters += string.digits\n",
    "    if use_letters:\n",
    "        characters += string.ascii_letters\n",
    "\n",
    "    # Ensure we have characters to choose from\n",
    "    if not characters:\n",
    "        raise ValueError(\"At least one of 'use_digits' or 'use_letters' must be True.\")\n",
    "    \n",
    "    # Use np.random.choice to randomly select characters\n",
    "    random_id = ''.join(rng.choice(list(characters), size=length))\n",
    "    return prefix + random_id"
   ]
  },
  {
   "cell_type": "code",
   "execution_count": null,
   "id": "7c65ff97-0bb5-4151-8a0d-2ddac097bc5f",
   "metadata": {},
   "outputs": [],
   "source": [
    "df['resume_id'] = df.apply(lambda row: generate_random_id('RES_', seed=row.name), axis=1)\n",
    "df['job_id'] = df.apply(lambda row: generate_random_id('JD_', seed=row.name), axis=1)"
   ]
  },
  {
   "cell_type": "markdown",
   "id": "39fc7cc9",
   "metadata": {},
   "source": [
    "# BRONZE TABLE"
   ]
  },
  {
   "cell_type": "markdown",
   "id": "13edbf69",
   "metadata": {},
   "source": [
    "## Resume Feature Extraction"
   ]
  },
  {
   "cell_type": "code",
   "execution_count": null,
   "id": "e4dca9e3",
   "metadata": {},
   "outputs": [],
   "source": [
    "# Define models\n",
    "    \n",
    "class Experience(BaseModel):\n",
    "    role: Optional[str] = Field(None, description=\"The job title or position held\")\n",
    "    company: Optional[str] = Field(None, description=\"The name of the company. Exclude other description or location\")\n",
    "    date_start: Optional[str] = Field(None, description=\"The start date of the job. Dates must be in ISO 8601 format (YYYY-MM-DDTHH:MM:SS) or use the keywords 'present', 'current', or 'ongoing'\")\n",
    "    date_end: Optional[str] = Field(None, description=\"The end date of the job. Dates must be in ISO 8601 format (YYYY-MM-DDTHH:MM:SS) or use the keywords 'present', 'current', or 'ongoing'\")\n",
    "    role_description: Optional[str] = Field(None, description=\"A description of the responsibilities and achievements in the role\")\n",
    "\n",
    "class Education(BaseModel):\n",
    "    degree: Optional[str] = Field(None, description=\"The academic degree obtained\")\n",
    "    institution: Optional[str] = Field(None, description=\"The name of the educational institution\")\n",
    "    date_start: Optional[str] = Field(None, description=\"The start date of the education program. Dates must be in ISO 8601 format (YYYY-MM-DDTHH:MM:SS) or use the keywords 'present', 'current', or 'ongoing'\")\n",
    "    date_end: Optional[str] = Field(None, description=\"The end date of the education program. Dates must be in ISO 8601 format (YYYY-MM-DDTHH:MM:SS) or use the keywords 'present', 'current', or 'ongoing'\")\n",
    "    grade: Optional[float] = Field(None, description=\"The GPA or final grade, if available\")\n",
    "    description: Optional[str] = Field(None, description=\"Additional details about the education\")\n",
    "\n",
    "class Resume(BaseModel):\n",
    "    name: Optional[str] = Field(None, description=\"Full name of the person\")\n",
    "    location_preference: Optional[str] = Field(None, description=\"Preference for their work location / remote, if stated\")\n",
    "    work_authorizaton: Optional[str] = Field(None, description=\"Work authorization that the person holds, such as citizenship, if stated\")\n",
    "    employment_type_preference: Optional[str] = Field(\n",
    "        None,\n",
    "        description=\"Type of employment the resume is looking for such as Full-time, Part-time, Contract, Freelance, or Internship, if stated. It can also be a preference for remote work or on-site work\"\n",
    "    )\n",
    "    hard_skills: List[str] = Field(default_factory=list, description=\"A list of hard or technical skills mentioned in the resume. All hard skills are tools, frameworks, or programming languages (e.g., Python, TensorFlow, Docker). Keep it as keywwords. Exclude certification or license\")\n",
    "    soft_skills: List[str] = Field(default_factory=list, description=\"A list of soft skills mentioned in the resume. Soft skills are qualities like communication, teamwork, leadership. Keep it as keywwords. Exclude required languages\")\n",
    "    languages: List[str]= Field(default_factory=list, description=\"A list of language proficiencies mentioned in the resume. If the resume does not mention any languages, then fill this with the language that the resume is written in\")\n",
    "    experience: List[Experience] = Field(default_factory=list, description=\"A list of past work experiences in reverse chronological order (most recent first).\")\n",
    "    education: List[Education] = Field(default_factory=list, description=\"A list of educational qualifications\")\n",
    "    certifications: List[str] = Field(default_factory=list, description=\"A list of certifications or licenses related with hard skills, medical skills, and software tools mentioned in the resume. For example, AWS Certified Solutions Architect, PMP, etc. Certifications must exclude any work role IDs, only include valid licenses or certifications.\")\n",
    "\n",
    "# Create the parser\n",
    "resume_parser = PydanticOutputParser(pydantic_object=Resume)\n",
    "format_instructions = resume_parser.get_format_instructions()"
   ]
  },
  {
   "cell_type": "markdown",
   "id": "dfd7233d",
   "metadata": {},
   "source": [
    "## Job Desc Feature Extraction"
   ]
  },
  {
   "cell_type": "code",
   "execution_count": null,
   "id": "f413bb0a",
   "metadata": {},
   "outputs": [],
   "source": [
    "# Define models for job desc\n",
    "\n",
    "class JD(BaseModel):\n",
    "    company_name: Optional[str] = Field(None, description=\"Name of the company posting the job\")\n",
    "    role_title: Optional[str] = Field(None, description=\"Job title or position being offered\")\n",
    "    application_deadline: Optional[str] = Field(None, description=\"The deadline for submitting applications. Dates must be in ISO 8601 format (YYYY-MM-DDTHH:MM:SS)\")\n",
    "    date_posted: Optional[str] = Field(None, description=\"The date when the job was posted. Dates must be in ISO 8601 format (YYYY-MM-DDTHH:MM:SS)\")\n",
    "    employment_type: Optional[str] = Field(None, description=\"Type of employment, such as Full-time, Part-time, Contract, Freelance, or Internship. If not stated, it is assumed to be Full-time\")\n",
    "    about_the_company: Optional[str] = Field(None, description=\"A brief overview or description of the company\")\n",
    "    job_responsibilities: List[str] = Field(default_factory=list, description=\"A list of key duties, tasks, or responsibilities associated with the job\")\n",
    "    required_hard_skills: List[str] = Field(default_factory=list, description=\"A list of technical or hard skills required or preferred for the job. Keep it as keywords. This includes programming languages, software tools, or frameworks like Python, Java, SQL\")\n",
    "    required_soft_skills: List[str] = Field(default_factory=list, description=\"A list of soft skills or character required or preferred for the job. Keep it as keywords. This includes communication, teamwork, or leadership skills\")   \n",
    "    required_language_proficiencies: List[str] = Field(default_factory=list, description=\"A list of language proficiencies required for the job if stated. If the job description does not mention any languages, then fill this with the language that the job description is written in\")\n",
    "    required_education: Optional[str] = Field(None, description=\"The minimum educational qualification required for the job, such as a degree or certification\")\n",
    "    required_work_authorization: Optional[str] = Field(None, description=\"Work authorization required for the job\")\n",
    "    job_location: Optional[str] = Field(None, description=\"Location where the job is based, such as a city or remote\")\n",
    "    certifications: List[str] = Field(default_factory=list, description=\"A list of certifications or licenses related with hard skills, medical skills, and software tools mentioned in the resume. certifications should relate only to verifiable credentials (e.g., AWS, CISSP, PMP). Do not include work roles or job titles as certifications\")\n",
    "    \n",
    "# Create the parser\n",
    "jd_parser = PydanticOutputParser(pydantic_object=JD)\n",
    "format_instructions = jd_parser.get_format_instructions()"
   ]
  },
  {
   "cell_type": "markdown",
   "id": "50d2cac6",
   "metadata": {},
   "source": [
    "## Parse\n"
   ]
  },
  {
   "cell_type": "markdown",
   "id": "17cb440d",
   "metadata": {},
   "source": [
    "### Parse resume"
   ]
  },
  {
   "cell_type": "code",
   "execution_count": null,
   "id": "8aa5a5cc",
   "metadata": {},
   "outputs": [],
   "source": [
    "# model options\n",
    "\n",
    "models = mistral.models.list()\n",
    "for m in models.data:\n",
    "    print(m.id)\n"
   ]
  },
  {
   "cell_type": "code",
   "execution_count": null,
   "id": "4614ee69",
   "metadata": {},
   "outputs": [],
   "source": [
    "import json\n",
    "\n",
    "def parse_with_mistral(text: str, parser, format_instructions: str, label: str) -> BaseModel:\n",
    "\n",
    "    prompt = (\n",
    "    f\"Parse the following text into a structured format according to the provided schema.\"\n",
    "    f\"If the same role at the same company appears more than once, merge the role descriptions and preserve the earliest start and latest end dates.\"\n",
    "    f\"{format_instructions}\\n\\n\"\n",
    "    f\"{label}:\\n{text}\"\n",
    ")\n",
    "\n",
    "    response = mistral.chat.complete(\n",
    "        model=\"mistral-medium-latest\",\n",
    "        messages=[{\"role\": \"user\", \"content\": prompt}],\n",
    "        temperature=0,\n",
    "        max_tokens=2048\n",
    "    )\n",
    "    raw = response.choices[0].message.content\n",
    "    return parser.parse(raw)"
   ]
  },
  {
   "cell_type": "code",
   "execution_count": null,
   "id": "e9e7d30f",
   "metadata": {},
   "outputs": [],
   "source": [
    "resume_text = df[\"resume_text\"].iloc[6236]\n",
    "parsed_resume = parse_with_mistral(resume_text, resume_parser, resume_parser.get_format_instructions(), \"Resume\")\n"
   ]
  },
  {
   "cell_type": "code",
   "execution_count": null,
   "id": "73d61c1b",
   "metadata": {},
   "outputs": [],
   "source": [
    "print(parsed_resume.model_dump_json(indent=2))"
   ]
  },
  {
   "cell_type": "markdown",
   "id": "143dea9a",
   "metadata": {},
   "source": [
    "### Parse job desc"
   ]
  },
  {
   "cell_type": "code",
   "execution_count": null,
   "id": "c1b7e767",
   "metadata": {},
   "outputs": [],
   "source": [
    "print(df['job_description_text'].iloc[6236])"
   ]
  },
  {
   "cell_type": "code",
   "execution_count": null,
   "id": "57dd896e",
   "metadata": {},
   "outputs": [],
   "source": [
    "parsed_jd = parse_with_mistral(df['job_description_text'].iloc[6236], jd_parser, jd_parser.get_format_instructions(), \"Job Description\")"
   ]
  },
  {
   "cell_type": "code",
   "execution_count": null,
   "id": "a3fefe66",
   "metadata": {},
   "outputs": [],
   "source": [
    "print(parsed_jd.model_dump_json(indent=2))"
   ]
  },
  {
   "cell_type": "markdown",
   "id": "6b5b71f4",
   "metadata": {},
   "source": [
    "### Parse 10 rows"
   ]
  },
  {
   "cell_type": "code",
   "execution_count": null,
   "id": "b5fbce08",
   "metadata": {},
   "outputs": [],
   "source": [
    "df_subset = pd.concat([df[:5], df[-5:]])\n",
    "df_subset"
   ]
  },
  {
   "cell_type": "code",
   "execution_count": null,
   "id": "5b24e97e",
   "metadata": {},
   "outputs": [],
   "source": [
    "for idx, row in tqdm(df_subset.iterrows(), total=len(df_subset)):\n",
    "    resume_text = row['resume_text']\n",
    "    jd_text = row['job_description_text']\n",
    "    \n",
    "    try:\n",
    "        # Process resume\n",
    "        parsed_resume = parse_with_mistral(\n",
    "            resume_text,\n",
    "            resume_parser,\n",
    "            resume_parser.get_format_instructions(),\n",
    "            \"Resume\"\n",
    "        )\n",
    "        parsed_resume_dict = parsed_resume.model_dump(mode=\"json\")\n",
    "        resume_output_path = os.path.join('examples_mistral', 'resume', f\"{idx}.json\")\n",
    "        os.makedirs(os.path.dirname(resume_output_path), exist_ok=True) \n",
    "        with open(resume_output_path, \"w\") as f:\n",
    "            json.dump(parsed_resume_dict, f, indent=2)\n",
    "\n",
    "        # Process JD\n",
    "        parsed_jd = parse_with_mistral(\n",
    "            jd_text,\n",
    "            jd_parser,\n",
    "            jd_parser.get_format_instructions(),\n",
    "            \"Job Description\"\n",
    "        )\n",
    "        parsed_jd_dict = parsed_jd.model_dump(mode=\"json\")\n",
    "        jd_output_path = os.path.join('examples_mistral', 'jd', f\"{idx}.json\")\n",
    "        os.makedirs(os.path.dirname(jd_output_path), exist_ok=True) \n",
    "        with open(jd_output_path, \"w\") as f:\n",
    "            json.dump(parsed_jd_dict, f, indent=2)\n",
    "\n",
    "    except Exception as e:\n",
    "        print(f\"Error parsing row {idx}: {e}\")"
   ]
  },
  {
   "cell_type": "markdown",
   "id": "e051f325",
   "metadata": {},
   "source": [
    "# Connecting to MongoDB"
   ]
  },
  {
   "cell_type": "code",
   "execution_count": 5,
   "id": "9271ab3f",
   "metadata": {},
   "outputs": [
    {
     "name": "stdout",
     "output_type": "stream",
     "text": [
      "Pinged your deployment. You successfully connected to MongoDB!\n"
     ]
    }
   ],
   "source": [
    "uri = os.environ.get(\"MONGO_DB_URL\")\n",
    "\n",
    "# Create a new client and connect to the server\n",
    "client = MongoClient(uri, server_api=ServerApi('1'))\n",
    "\n",
    "# Send a ping to confirm a successful connection\n",
    "try:\n",
    "    client.admin.command('ping')\n",
    "    print(\"Pinged your deployment. You successfully connected to MongoDB!\")\n",
    "except Exception as e:\n",
    "    print(e)"
   ]
  },
  {
   "cell_type": "code",
   "execution_count": 6,
   "id": "1472c4d3-244d-4412-a25b-300451e8b6f8",
   "metadata": {},
   "outputs": [
    {
     "name": "stdout",
     "output_type": "stream",
     "text": [
      ":: loading settings :: url = jar:file:/usr/local/lib/python3.12/site-packages/pyspark/jars/ivy-2.5.1.jar!/org/apache/ivy/core/settings/ivysettings.xml\n"
     ]
    },
    {
     "name": "stderr",
     "output_type": "stream",
     "text": [
      "Ivy Default Cache set to: /root/.ivy2/cache\n",
      "The jars for the packages stored in: /root/.ivy2/jars\n",
      "org.mongodb.spark#mongo-spark-connector_2.12 added as a dependency\n",
      ":: resolving dependencies :: org.apache.spark#spark-submit-parent-acc237fe-a7b6-400c-bd71-8f137a09e14f;1.0\n",
      "\tconfs: [default]\n",
      "\tfound org.mongodb.spark#mongo-spark-connector_2.12;10.2.0 in central\n",
      "\tfound org.mongodb#mongodb-driver-sync;4.8.2 in central\n",
      "\t[4.8.2] org.mongodb#mongodb-driver-sync;[4.8.1,4.8.99)\n",
      "\tfound org.mongodb#bson;4.8.2 in central\n",
      "\tfound org.mongodb#mongodb-driver-core;4.8.2 in central\n",
      "\tfound org.mongodb#bson-record-codec;4.8.2 in central\n",
      ":: resolution report :: resolve 3629ms :: artifacts dl 15ms\n",
      "\t:: modules in use:\n",
      "\torg.mongodb#bson;4.8.2 from central in [default]\n",
      "\torg.mongodb#bson-record-codec;4.8.2 from central in [default]\n",
      "\torg.mongodb#mongodb-driver-core;4.8.2 from central in [default]\n",
      "\torg.mongodb#mongodb-driver-sync;4.8.2 from central in [default]\n",
      "\torg.mongodb.spark#mongo-spark-connector_2.12;10.2.0 from central in [default]\n",
      "\t---------------------------------------------------------------------\n",
      "\t|                  |            modules            ||   artifacts   |\n",
      "\t|       conf       | number| search|dwnlded|evicted|| number|dwnlded|\n",
      "\t---------------------------------------------------------------------\n",
      "\t|      default     |   5   |   1   |   0   |   0   ||   5   |   0   |\n",
      "\t---------------------------------------------------------------------\n",
      ":: retrieving :: org.apache.spark#spark-submit-parent-acc237fe-a7b6-400c-bd71-8f137a09e14f\n",
      "\tconfs: [default]\n",
      "\t0 artifacts copied, 5 already retrieved (0kB/12ms)\n",
      "25/06/16 15:23:21 WARN NativeCodeLoader: Unable to load native-hadoop library for your platform... using builtin-java classes where applicable\n",
      "Setting default log level to \"WARN\".\n",
      "To adjust logging level use sc.setLogLevel(newLevel). For SparkR, use setLogLevel(newLevel).\n"
     ]
    }
   ],
   "source": [
    "load_dotenv()\n",
    "\n",
    "mongo_db_url = os.environ.get(\"MONGO_DB_URL\")\n",
    "\n",
    "spark = SparkSession.builder \\\n",
    "    .appName(\"MongoDBIntegration\") \\\n",
    "    .config(\"spark.mongodb.read.connection.uri\", mongo_db_url) \\\n",
    "    .config(\"spark.mongodb.write.connection.uri\", mongo_db_url) \\\n",
    "    .config(\"spark.jars.packages\", \"org.mongodb.spark:mongo-spark-connector_2.12:10.2.0\") \\\n",
    "    .getOrCreate()"
   ]
  },
  {
   "cell_type": "markdown",
   "id": "d2ac06e8-c7b8-48c1-85d0-12d47269d816",
   "metadata": {},
   "source": [
    "### Save in mongodb per item (incrementing table)"
   ]
  },
  {
   "cell_type": "code",
   "execution_count": null,
   "id": "9e17358c",
   "metadata": {},
   "outputs": [],
   "source": [
    "db = client[\"jobmirror_db\"]\n",
    "resume_collection = db[\"resumes\"]\n",
    "jd_collection = db[\"job_descriptions\"]\n",
    "\n",
    "for idx, row in tqdm(df.iterrows(), total=len(df)):\n",
    "    resume_text = row['resume_text']\n",
    "    jd_text = row['job_description_text']\n",
    "    try:\n",
    "        # Process resume\n",
    "        parsed_resume = parse_with_mistral(\n",
    "            resume_text,\n",
    "            resume_parser,\n",
    "            resume_parser.get_format_instructions(),\n",
    "            \"Resume\"\n",
    "        )\n",
    "        parsed_resume_dict = parsed_resume.model_dump(mode=\"json\")\n",
    "        parsed_resume_dict[\"row_idx\"] = idx  \n",
    "        resume_collection.insert_one(parsed_resume_dict) \n",
    "\n",
    "        # Process JD\n",
    "        parsed_jd = parse_with_mistral(\n",
    "            jd_text,\n",
    "            jd_parser,\n",
    "            jd_parser.get_format_instructions(),\n",
    "            \"Job Description\"\n",
    "        )\n",
    "        parsed_jd_dict = parsed_jd.model_dump(mode=\"json\")\n",
    "        parsed_jd_dict[\"row_idx\"] = idx  \n",
    "        jd_collection.insert_one(parsed_jd_dict)\n",
    "\n",
    "    except Exception as e:\n",
    "        print(f\"Error parsing row {idx}: {e}\")"
   ]
  },
  {
   "cell_type": "code",
   "execution_count": null,
   "id": "2db48477-91ec-4fda-bc2a-782b1dd6f05c",
   "metadata": {},
   "outputs": [],
   "source": [
    "# Clear collections\n",
    "\n",
    "db = client[\"jobmirror_db\"]\n",
    "resume_collection = db[\"resumes\"]\n",
    "jd_collection = db[\"job_descriptions\"]\n",
    "\n",
    "resume_collection.delete_many({})\n",
    "jd_collection.delete_many({})\n",
    "\n"
   ]
  },
  {
   "cell_type": "markdown",
   "id": "2180aa45",
   "metadata": {},
   "source": [
    "Convert into PySpark Dataframe (Overwrite table)"
   ]
  },
  {
   "cell_type": "code",
   "execution_count": null,
   "id": "396cb607",
   "metadata": {},
   "outputs": [],
   "source": [
    "def python_type_to_spark_type(annotation):\n",
    "    origin = get_origin(annotation)\n",
    "\n",
    "    if origin is Union:  # Handle Optional\n",
    "        args = [arg for arg in get_args(annotation) if arg is not type(None)]\n",
    "        return python_type_to_spark_type(args[0])\n",
    "\n",
    "    if origin in (list, List):\n",
    "        element_type = python_type_to_spark_type(get_args(annotation)[0])\n",
    "        return ArrayType(element_type)\n",
    "\n",
    "    if isinstance(annotation, type):\n",
    "        if issubclass(annotation, BaseModel):\n",
    "            return pydantic_to_spark_schema(annotation)\n",
    "        if issubclass(annotation, str):\n",
    "            return StringType()\n",
    "        if issubclass(annotation, int):\n",
    "            return IntegerType()\n",
    "        if issubclass(annotation, float):\n",
    "            return FloatType()\n",
    "        if issubclass(annotation, bool):\n",
    "            return BooleanType()\n",
    "        if issubclass(annotation, datetime.datetime):\n",
    "            return StringType()\n",
    "\n",
    "    return StringType()\n",
    "\n",
    "def pydantic_to_spark_schema(model: type) -> StructType:\n",
    "    fields = []\n",
    "\n",
    "    for name, field in model.model_fields.items():\n",
    "        annotation = field.annotation\n",
    "\n",
    "        spark_type = python_type_to_spark_type(annotation)\n",
    "        fields.append(StructField(name, spark_type, True))  # assume all nullable\n",
    "    fields.append(StructField('snapshot_date', StringType(), True))\n",
    "    fields.append(StructField('id', StringType(), True))\n",
    "\n",
    "    return StructType(fields)"
   ]
  },
  {
   "cell_type": "code",
   "execution_count": null,
   "id": "68efbe69-80ca-4f8c-af7d-b5a9c532980b",
   "metadata": {},
   "outputs": [],
   "source": [
    "parsed_resumes = []\n",
    "parsed_jds = []\n",
    "\n",
    "for idx, row in tqdm(df.iterrows(), total=len(df)):\n",
    "    try:\n",
    "        # Parse resume\n",
    "        parsed_resume = parse_with_mistral(\n",
    "            row['resume_text'],\n",
    "            resume_parser,\n",
    "            resume_parser.get_format_instructions(),\n",
    "            \"Resume\"\n",
    "        )\n",
    "        parsed_resume_dict = parsed_resume.model_dump(mode=\"json\")\n",
    "        parsed_resume_dict['snapshot_date'] = row['snapshot_date']\n",
    "        parsed_resume_dict['id'] = row['resume_id']\n",
    "        parsed_resumes.append(parsed_resume_dict)\n",
    "\n",
    "        # Parse JD\n",
    "        parsed_jd = parse_with_mistral(\n",
    "            row['job_description_text'],\n",
    "            jd_parser,\n",
    "            jd_parser.get_format_instructions(),\n",
    "            \"Job Description\"\n",
    "        )\n",
    "        parsed_jd_dict = parsed_jd.model_dump(mode=\"json\")\n",
    "        parsed_jd_dict['snapshot_date'] = row['snapshot_date']\n",
    "        parsed_jd_dict['id'] = row['job_id']\n",
    "        parsed_jds.append(parsed_jd_dict)\n",
    "    except Exception as e:\n",
    "        print(f\"Error parsing row {idx}: {e}\")"
   ]
  },
  {
   "cell_type": "code",
   "execution_count": null,
   "id": "18f3379b",
   "metadata": {},
   "outputs": [],
   "source": [
    "resume_schema = pydantic_to_spark_schema(Resume)\n",
    "jd_schema = pydantic_to_spark_schema(JD)\n",
    "\n",
    "resume_df = spark.createDataFrame(parsed_resumes, schema=resume_schema)\n",
    "jd_df = spark.createDataFrame(parsed_jds, schema=jd_schema)\n"
   ]
  },
  {
   "cell_type": "code",
   "execution_count": null,
   "id": "6ba74bce-b18a-430a-8ad5-437d15cef9f5",
   "metadata": {},
   "outputs": [],
   "source": [
    "read_bronze_table_as_pyspark(\"jobmirror_db\", \"bronze_resumes\")"
   ]
  },
  {
   "cell_type": "markdown",
   "id": "8e0ed169-5470-4b4a-95f9-909a04245ddc",
   "metadata": {},
   "source": [
    "Load data from database"
   ]
  },
  {
   "cell_type": "code",
   "execution_count": null,
   "id": "8a62d2e1-6602-4b42-80ee-3d7386a34ae6",
   "metadata": {},
   "outputs": [],
   "source": [
    "df_bronze_resume = read_bronze_table_as_pandas(\"jobmirror_db\", \"bronze_resumes\")\n",
    "print(df_bronze_resume.head())"
   ]
  },
  {
   "cell_type": "code",
   "execution_count": null,
   "id": "d373afdf-2cd1-4845-a6e1-9dfd21123a62",
   "metadata": {},
   "outputs": [],
   "source": [
    "df_bronze_resume.info()"
   ]
  },
  {
   "cell_type": "code",
   "execution_count": null,
   "id": "7fd629d2-53d1-4f68-8090-d59e5aa99584",
   "metadata": {},
   "outputs": [],
   "source": [
    "df_bronze_jd = read_bronze_table_as_pandas(\"jobmirror_db\", \"bronze_job_descriptions\")\n",
    "print(df_bronze_jd.head())"
   ]
  },
  {
   "cell_type": "code",
   "execution_count": null,
   "id": "666f9b40-f0f3-4dc7-bb43-40b23603db92",
   "metadata": {},
   "outputs": [],
   "source": [
    "df_bronze_jd.info()"
   ]
  },
  {
   "cell_type": "code",
   "execution_count": null,
   "id": "7109b19d",
   "metadata": {},
   "outputs": [],
   "source": [
    "df_bronze_label = read_bronze_table_as_pandas(\"jobmirror_db\", \"bronze_labels\")\n",
    "print(df_bronze_label.head())"
   ]
  },
  {
   "cell_type": "code",
   "execution_count": null,
   "id": "7e806f09",
   "metadata": {},
   "outputs": [],
   "source": [
    "df_bronze_label.info()"
   ]
  },
  {
   "cell_type": "code",
   "execution_count": null,
   "id": "dea100ed-6a6a-4954-bdc1-4d617abe94d7",
   "metadata": {},
   "outputs": [],
   "source": [
    "collection = client[\"jobmirror_db\"][\"bronze_resume\"]"
   ]
  },
  {
   "cell_type": "code",
   "execution_count": null,
   "id": "0123435f-8aaa-4b62-90ce-c35217368c9d",
   "metadata": {},
   "outputs": [],
   "source": [
    "pipeline = [\n",
    "    {\n",
    "        \"$group\": {\n",
    "            \"_id\": \"$id\",                  # Field to check duplicates on\n",
    "            \"ids\": { \"$addToSet\": \"$_id\" },   # Collect all document IDs for this email\n",
    "            \"count\": { \"$sum\": 1 }\n",
    "        }\n",
    "    },\n",
    "    {\n",
    "        \"$match\": {\n",
    "            \"count\": { \"$gt\": 1 }             # Only duplicates\n",
    "        }\n",
    "    }\n",
    "]\n",
    "\n",
    "duplicates = collection.aggregate(pipeline)\n",
    "\n",
    "# Step 2: Delete all but one document for each duplicate\n",
    "for doc in duplicates:\n",
    "    ids = doc[\"ids\"]\n",
    "    ids_to_delete = ids[1:]  # Keep the first one, delete the rest\n",
    "    if ids_to_delete:\n",
    "        result = collection.delete_many({ \"_id\": { \"$in\": ids_to_delete } })"
   ]
  },
  {
   "cell_type": "code",
   "execution_count": null,
   "id": "fd43b2bc-35e6-4975-bb21-c56518e59186",
   "metadata": {},
   "outputs": [],
   "source": [
    "from pymongo import MongoClient\n",
    "\n",
    "\n",
    "db = client[\"jobmirror_db\"]\n",
    "\n",
    "result = db.bronze_resumes.update_many(\n",
    "    {},  # filter: apply to all documents\n",
    "    {\"$rename\": {\"work_authorizaton\": \"work_authorization\"}}\n",
    ")\n",
    "\n",
    "print(f\"Matched {result.matched_count} documents and modified {result.modified_count} documents.\")\n"
   ]
  },
  {
   "cell_type": "markdown",
   "id": "fe071a91-cde9-491a-b5ac-49c4d859c81d",
   "metadata": {},
   "source": [
    "## Skills Feature Extraction"
   ]
  },
  {
   "cell_type": "code",
   "execution_count": 402,
   "id": "f19f1939-14bd-48aa-a5a6-0bb9851b6761",
   "metadata": {},
   "outputs": [],
   "source": [
    "import os.path\n",
    "from google.oauth2.credentials import Credentials\n",
    "from google_auth_oauthlib.flow import InstalledAppFlow\n",
    "\n",
    "from google.oauth2 import service_account\n",
    "from googleapiclient.discovery import build\n",
    "\n",
    "creds = service_account.Credentials.from_service_account_file(\n",
    "    'service_account.json',\n",
    "    scopes=['https://www.googleapis.com/auth/drive.readonly']\n",
    ")\n",
    "\n",
    "service = build('drive', 'v3', credentials=creds)\n",
    "\n",
    "\n",
    "\n"
   ]
  },
  {
   "cell_type": "code",
   "execution_count": null,
   "id": "afa4afb4-1182-4d09-b145-f6c28f285ff7",
   "metadata": {},
   "outputs": [],
   "source": [
    "from googleapiclient.http import MediaIoBaseDownload\n",
    "import io\n",
    "\n",
    "def list_folder_contents(service, folder_id, parent_path=''):\n",
    "    all_files = []\n",
    "\n",
    "    query = f\"'{folder_id}' in parents and trashed = false\"\n",
    "    results = service.files().list(q=query,\n",
    "                                   fields=\"files(id, name, mimeType)\").execute()\n",
    "    items = results.get('files', [])\n",
    "\n",
    "    for item in items:\n",
    "        file_path = os.path.join(parent_path, item['name'])\n",
    "\n",
    "        if item['mimeType'] == 'application/vnd.google-apps.folder':\n",
    "            # Recurse into subfolder\n",
    "            all_files.extend(list_folder_contents(service, item['id'], file_path))\n",
    "        else:\n",
    "            # Add file to list\n",
    "            all_files.append({\n",
    "                'id': item['id'],\n",
    "                'name': item['name'],\n",
    "                'mimeType': item['mimeType'],\n",
    "                'path': file_path\n",
    "            })\n",
    "\n",
    "    return all_files\n",
    "\n",
    "def download_file(service, file, output_base):\n",
    "    os.makedirs(os.path.dirname(os.path.join(output_base, file['path'])), exist_ok=True)\n",
    "    file_path = os.path.join(output_base, file['path'])\n",
    "\n",
    "    export_formats = {\n",
    "        'application/vnd.google-apps.document': 'application/pdf',\n",
    "        'application/vnd.google-apps.spreadsheet': 'application/vnd.openxmlformats-officedocument.spreadsheetml.sheet',\n",
    "        'application/vnd.google-apps.presentation': 'application/pdf',\n",
    "    }\n",
    "\n",
    "    if file['mimeType'] in export_formats:\n",
    "        # Export Google Docs formats\n",
    "        request = service.files().export_media(\n",
    "            fileId=file['id'],\n",
    "            mimeType=export_formats[file['mimeType']]\n",
    "        )\n",
    "        file_path += get_file_extension(export_formats[file['mimeType']])\n",
    "    else:\n",
    "        # Binary files\n",
    "        request = service.files().get_media(fileId=file['id'])\n",
    "\n",
    "    with io.FileIO(file_path, 'wb') as fh:\n",
    "        downloader = MediaIoBaseDownload(fh, request)\n",
    "        done = False\n",
    "        while not done:\n",
    "            status, done = downloader.next_chunk()\n",
    "\n",
    "def get_file_extension(mime_type):\n",
    "    mapping = {\n",
    "        'application/pdf': '.pdf',\n",
    "        'application/vnd.openxmlformats-officedocument.spreadsheetml.sheet': '.xlsx',\n",
    "        'application/vnd.openxmlformats-officedocument.wordprocessingml.document': '.docx',\n",
    "    }\n",
    "    return mapping.get(mime_type, '')\n",
    "\n",
    "files = list_folder_contents(service, '1_eMgnRaFtt-ZSZD3zfwai3qlpYJ-M5C6')\n",
    "\n",
    "for f in tqdm(files, total=len(files), desc=\"Downloading data files...\"):\n",
    "    download_file(service, f, '.')\n",
    "print(\"Download complete.\")\n"
   ]
  },
  {
   "cell_type": "code",
   "execution_count": null,
   "id": "aec2f0e7-7ec8-41eb-9ff1-23da4de768f0",
   "metadata": {},
   "outputs": [],
   "source": [
    "# Load skills data\n",
    "import pandas as pd\n",
    "\n",
    "# Example: View the Skills.xlsx file\n",
    "activity_skills_path = r'datamart/bronze/skills/Skills to Work Activities.xlsx'\n",
    "activity_skills_df = pd.read_excel(activity_skills_path)\n",
    "print(activity_skills_df.head(5))\n",
    "\n"
   ]
  },
  {
   "cell_type": "code",
   "execution_count": null,
   "id": "211a4402-29ed-455d-8be1-bb078ce72868",
   "metadata": {},
   "outputs": [],
   "source": [
    "context_skills_path = r'datamart/bronze/skills/Skills to Work Context.xlsx'\n",
    "context_skills_df = pd.read_excel(context_skills_path)\n",
    "print(context_skills_df.head(5))\n"
   ]
  },
  {
   "cell_type": "code",
   "execution_count": null,
   "id": "aeddab03-116c-4a1d-b505-93342d7833e3",
   "metadata": {},
   "outputs": [],
   "source": [
    "skills_path = r'datamart/bronze/skills/Skills.xlsx'\n",
    "skills_df = pd.read_excel(skills_path)\n",
    "print(skills_df.head(5))\n"
   ]
  },
  {
   "cell_type": "code",
   "execution_count": null,
   "id": "884278d0-52be-46cb-99e2-b021c12b07af",
   "metadata": {},
   "outputs": [],
   "source": [
    "tech_skills_path = r'datamart/bronze/skills/Technology Skills.xlsx'\n",
    "tech_skills_df = pd.read_excel(tech_skills_path)\n",
    "print(tech_skills_df.head(5))"
   ]
  },
  {
   "cell_type": "markdown",
   "id": "5f185d77",
   "metadata": {},
   "source": [
    "# SILVER"
   ]
  },
  {
   "cell_type": "code",
   "execution_count": null,
   "id": "0e146d0e-54fa-4b53-8bcb-4b38fc24c206",
   "metadata": {},
   "outputs": [],
   "source": [
    "from google.oauth2 import service_account\n",
    "from googleapiclient.discovery import build\n",
    "import os\n",
    "from googleapiclient.http import MediaIoBaseDownload, MediaFileUpload\n",
    "import io\n",
    "from io import BytesIO\n",
    "import pandas as pd\n",
    "import pyarrow.parquet as pq\n",
    "\n"
   ]
  },
  {
   "cell_type": "markdown",
   "id": "1754fe3b-a012-42b9-a65f-4c80c5c26a74",
   "metadata": {},
   "source": [
    "## Resume"
   ]
  },
  {
   "cell_type": "code",
   "execution_count": 5,
   "id": "4a2d6a16-7003-4e76-871d-0a9288290e29",
   "metadata": {},
   "outputs": [
    {
     "name": "stdout",
     "output_type": "stream",
     "text": [
      ":: loading settings :: url = jar:file:/usr/local/lib/python3.12/site-packages/pyspark/jars/ivy-2.5.1.jar!/org/apache/ivy/core/settings/ivysettings.xml\n"
     ]
    },
    {
     "name": "stderr",
     "output_type": "stream",
     "text": [
      "Ivy Default Cache set to: /root/.ivy2/cache\n",
      "The jars for the packages stored in: /root/.ivy2/jars\n",
      "org.mongodb.spark#mongo-spark-connector_2.12 added as a dependency\n",
      ":: resolving dependencies :: org.apache.spark#spark-submit-parent-20359fb1-d143-4624-8de4-997462cec5a9;1.0\n",
      "\tconfs: [default]\n",
      "\tfound org.mongodb.spark#mongo-spark-connector_2.12;10.5.0 in central\n",
      "\tfound org.mongodb#mongodb-driver-sync;5.1.4 in central\n",
      "\t[5.1.4] org.mongodb#mongodb-driver-sync;[5.1.1,5.1.99)\n",
      "\tfound org.mongodb#bson;5.1.4 in central\n",
      "\tfound org.mongodb#mongodb-driver-core;5.1.4 in central\n",
      "\tfound org.mongodb#bson-record-codec;5.1.4 in central\n",
      ":: resolution report :: resolve 2085ms :: artifacts dl 6ms\n",
      "\t:: modules in use:\n",
      "\torg.mongodb#bson;5.1.4 from central in [default]\n",
      "\torg.mongodb#bson-record-codec;5.1.4 from central in [default]\n",
      "\torg.mongodb#mongodb-driver-core;5.1.4 from central in [default]\n",
      "\torg.mongodb#mongodb-driver-sync;5.1.4 from central in [default]\n",
      "\torg.mongodb.spark#mongo-spark-connector_2.12;10.5.0 from central in [default]\n",
      "\t---------------------------------------------------------------------\n",
      "\t|                  |            modules            ||   artifacts   |\n",
      "\t|       conf       | number| search|dwnlded|evicted|| number|dwnlded|\n",
      "\t---------------------------------------------------------------------\n",
      "\t|      default     |   5   |   1   |   0   |   0   ||   5   |   0   |\n",
      "\t---------------------------------------------------------------------\n",
      ":: retrieving :: org.apache.spark#spark-submit-parent-20359fb1-d143-4624-8de4-997462cec5a9\n",
      "\tconfs: [default]\n",
      "\t0 artifacts copied, 5 already retrieved (0kB/7ms)\n",
      "25/06/16 15:27:47 WARN NativeCodeLoader: Unable to load native-hadoop library for your platform... using builtin-java classes where applicable\n",
      "Setting default log level to \"WARN\".\n",
      "To adjust logging level use sc.setLogLevel(newLevel). For SparkR, use setLogLevel(newLevel).\n"
     ]
    }
   ],
   "source": [
    "df_silver_jd = read_bronze_table_as_pyspark(\"jobmirror_db\", \"bronze_job_descriptions\")\n",
    "df_silver_resume = read_bronze_table_as_pyspark(\"jobmirror_db\", \"bronze_resumes\")\n",
    "\n",
    "df_silver_label = read_bronze_table_as_pyspark(\"jobmirror_db\", \"bronze_labels\")"
   ]
  },
  {
   "cell_type": "code",
   "execution_count": 6,
   "id": "052b3975-640d-4441-81cf-7b24e07fa8cd",
   "metadata": {},
   "outputs": [
    {
     "name": "stdout",
     "output_type": "stream",
     "text": [
      "root\n",
      " |-- _id: string (nullable = true)\n",
      " |-- certifications: array (nullable = true)\n",
      " |    |-- element: string (containsNull = true)\n",
      " |-- education: array (nullable = true)\n",
      " |    |-- element: struct (containsNull = true)\n",
      " |    |    |-- degree: string (nullable = true)\n",
      " |    |    |-- institution: string (nullable = true)\n",
      " |    |    |-- date_start: string (nullable = true)\n",
      " |    |    |-- date_end: string (nullable = true)\n",
      " |    |    |-- grade: double (nullable = true)\n",
      " |    |    |-- description: string (nullable = true)\n",
      " |    |    |-- snapshot_date: void (nullable = true)\n",
      " |    |    |-- id: void (nullable = true)\n",
      " |-- employment_type_preference: string (nullable = true)\n",
      " |-- experience: array (nullable = true)\n",
      " |    |-- element: struct (containsNull = true)\n",
      " |    |    |-- role: string (nullable = true)\n",
      " |    |    |-- company: string (nullable = true)\n",
      " |    |    |-- date_start: string (nullable = true)\n",
      " |    |    |-- date_end: string (nullable = true)\n",
      " |    |    |-- role_description: string (nullable = true)\n",
      " |    |    |-- snapshot_date: void (nullable = true)\n",
      " |    |    |-- id: void (nullable = true)\n",
      " |-- hard_skills: array (nullable = true)\n",
      " |    |-- element: string (containsNull = true)\n",
      " |-- id: string (nullable = true)\n",
      " |-- languages: array (nullable = true)\n",
      " |    |-- element: string (containsNull = true)\n",
      " |-- location_preference: string (nullable = true)\n",
      " |-- name: string (nullable = true)\n",
      " |-- snapshot_date: string (nullable = true)\n",
      " |-- soft_skills: array (nullable = true)\n",
      " |    |-- element: string (containsNull = true)\n",
      " |-- work_authorization: string (nullable = true)\n",
      "\n"
     ]
    }
   ],
   "source": [
    "df_silver_resume.printSchema()\n",
    "\n"
   ]
  },
  {
   "cell_type": "code",
   "execution_count": 7,
   "id": "2a942d40-339a-4f04-a293-254c82843f37",
   "metadata": {},
   "outputs": [
    {
     "name": "stderr",
     "output_type": "stream",
     "text": [
      "[Stage 0:>                                                          (0 + 1) / 1]"
     ]
    },
    {
     "name": "stdout",
     "output_type": "stream",
     "text": [
      "+--------------------+--------------+--------------------+--------------------------+--------------------+--------------------+------------+-----------------+-------------------+----+-------------+--------------------+------------------+--------------------+-------------+--------------+-----------+------------+-------------+\n",
      "|                 _id|certifications|           education|employment_type_preference|          experience|         hard_skills|          id|        languages|location_preference|name|snapshot_date|         soft_skills|work_authorization|                 _id|          fit|            id|     job_id|   resume_id|snapshot_date|\n",
      "+--------------------+--------------+--------------------+--------------------------+--------------------+--------------------+------------+-----------------+-------------------+----+-------------+--------------------+------------------+--------------------+-------------+--------------+-----------+------------+-------------+\n",
      "|683f3ae880dcaf129...|            []|[{Masters, Comput...|                      NULL|[{Lead BI Develop...|[Tableau Desktop,...|RES_6vLfart2|        [English]|               NULL|NULL|   2021-09-01|[Communication, I...|              NULL|68485fdb94b34d41e...|       No Fit|LABEL_6vLfart2|JD_6vLfart2|RES_6vLfart2|   2021-09-01|\n",
      "|684653a279e20257c...|            []|[{MBA, Indiana We...|                      NULL|[{Accountant, Ban...|[Monthly and Annu...|RES_8MXnJyox|        [English]|               NULL|NULL|   2021-07-21|[Problem-Solving,...|              NULL|684653a379e20257c...|Potential Fit|LABEL_8MXnJyox|JD_8MXnJyox|RES_8MXnJyox|   2021-07-21|\n",
      "|6848676f94b34d41e...|            []|[{Bachelor of Art...|                      NULL|[{Data Entry Spec...|[Microsoft Office...|RES_ArsAXTeZ|[French, Spanish]|               NULL|NULL|   2021-08-02|[communication, o...|              NULL|6848677194b34d41e...|       No Fit|LABEL_ArsAXTeZ|JD_ArsAXTeZ|RES_ArsAXTeZ|   2021-08-02|\n",
      "|683f432280dcaf129...|            []|[{Associates Degr...|                      NULL|[{Senior Software...|[APS, COBOL, TSO-...|RES_DD4VOJtu|        [English]|               NULL|NULL|   2021-09-25|[communication, t...|              NULL|684860b094b34d41e...|       No Fit|LABEL_DD4VOJtu|JD_DD4VOJtu|RES_DD4VOJtu|   2021-09-25|\n",
      "|683f3dd080dcaf129...|            []|[{Bachelor of Sci...|                      NULL|[{Market Research...|[Design for Lean ...|RES_DM6SwjlJ|        [English]|               NULL|NULL|   2021-07-30|[public speaker, ...|              NULL|6848602494b34d41e...|       No Fit|LABEL_DM6SwjlJ|JD_DM6SwjlJ|RES_DM6SwjlJ|   2021-07-30|\n",
      "+--------------------+--------------+--------------------+--------------------------+--------------------+--------------------+------------+-----------------+-------------------+----+-------------+--------------------+------------------+--------------------+-------------+--------------+-----------+------------+-------------+\n",
      "only showing top 5 rows\n",
      "\n"
     ]
    },
    {
     "name": "stderr",
     "output_type": "stream",
     "text": [
      "                                                                                "
     ]
    }
   ],
   "source": [
    "df_resume_label_joined = df_silver_resume.join(\n",
    "    df_silver_label,\n",
    "    df_silver_resume[\"id\"] == df_silver_label[\"resume_id\"],\n",
    "    how=\"inner\"\n",
    ")\n",
    "\n",
    "df_resume_label_joined.show(5)"
   ]
  },
  {
   "cell_type": "markdown",
   "id": "57841f16-34ac-4112-9330-94d683f22f3c",
   "metadata": {},
   "source": [
    "#### employment type"
   ]
  },
  {
   "cell_type": "code",
   "execution_count": 372,
   "id": "e830a158-99d5-4995-96c1-7f0874e191c1",
   "metadata": {},
   "outputs": [
    {
     "name": "stdout",
     "output_type": "stream",
     "text": [
      "Employment Type Preference Counts:\n",
      "employment_type_preference\n",
      "None                        5937\n",
      "Full-time                    143\n",
      "Internship                    79\n",
      "Contract                      21\n",
      "full-time                     13\n",
      "Full time / Part Time         10\n",
      "part-time                     10\n",
      "full time                      8\n",
      "remote flexible schedule       7\n",
      "Full-time or Part-time         5\n",
      "flexible schedule              3\n",
      "part-time or full-time         2\n",
      "FTE positions                  1\n",
      "FTE                            1\n",
      "Intern                         1\n",
      "Name: count, dtype: int64\n"
     ]
    }
   ],
   "source": [
    "employment_counts = df_resume_label_joined['employment_type_preference'].value_counts(dropna=False)\n",
    "print(\"Employment Type Preference Counts:\")\n",
    "print(employment_counts)\n"
   ]
  },
  {
   "cell_type": "code",
   "execution_count": 9,
   "id": "5f93fa30-a0b8-456a-8f0e-4ed139bce686",
   "metadata": {},
   "outputs": [
    {
     "name": "stdout",
     "output_type": "stream",
     "text": [
      "Employment Type Preference Counts:\n",
      "+--------------------------+-----+\n",
      "|employment_type_preference|count|\n",
      "+--------------------------+-----+\n",
      "|      Full-time or Part...|    5|\n",
      "|                      NULL| 5937|\n",
      "|                    Intern|    1|\n",
      "|             FTE positions|    1|\n",
      "|                  Contract|   21|\n",
      "|                 full time|    8|\n",
      "|                       FTE|    1|\n",
      "|      part-time or full...|    2|\n",
      "|      remote flexible s...|    7|\n",
      "|                 full-time|   13|\n",
      "|                 Full-time|  143|\n",
      "|                 part-time|   10|\n",
      "|      Full time / Part ...|   10|\n",
      "|         flexible schedule|    3|\n",
      "|                Internship|   79|\n",
      "+--------------------------+-----+\n",
      "\n"
     ]
    }
   ],
   "source": [
    "employment_counts = df_resume_label_joined.groupBy(\"employment_type_preference\").agg(\n",
    "    count(\"*\").alias(\"count\")\n",
    ")\n",
    "\n",
    "print(\"Employment Type Preference Counts:\")\n",
    "employment_counts.show()"
   ]
  },
  {
   "cell_type": "code",
   "execution_count": 373,
   "id": "1877ef11-69a7-4e33-8794-c9e3834b2fc7",
   "metadata": {},
   "outputs": [
    {
     "name": "stdout",
     "output_type": "stream",
     "text": [
      "employment_type_preference_cleaned\n",
      "full-time     6130\n",
      "internship      80\n",
      "contract        21\n",
      "part-time       10\n",
      "Name: count, dtype: int64\n"
     ]
    }
   ],
   "source": [
    "def clean_employment_type(val):\n",
    "    if pd.isna(val):\n",
    "        return 'full-time' \\\n",
    "    \n",
    "    val = str(val).lower()  \\\n",
    "\n",
    "    if any(keyword in val for keyword in ['full', 'remote', 'flexible', 'fte']):\n",
    "        return 'full-time'\n",
    "    elif 'part' in val:\n",
    "        return 'part-time'\n",
    "    elif 'intern' in val:\n",
    "        return 'internship'\n",
    "    elif 'contract' in val:\n",
    "        return 'contract'\n",
    "    else:\n",
    "        return 'full-time'  \n",
    "\n",
    "# Apply the function\n",
    "df_resume_label_joined['employment_type_preference_cleaned'] = df_resume_label_joined['employment_type_preference'].apply(clean_employment_type)\n",
    "\n",
    "# Check new counts\n",
    "print(df_resume_label_joined['employment_type_preference_cleaned'].value_counts())\n"
   ]
  },
  {
   "cell_type": "code",
   "execution_count": 10,
   "id": "b2d32bfa-041a-4642-9a98-5fd0c9dbad3e",
   "metadata": {},
   "outputs": [
    {
     "name": "stdout",
     "output_type": "stream",
     "text": [
      "+----------------------------------+-----+\n",
      "|employment_type_preference_cleaned|count|\n",
      "+----------------------------------+-----+\n",
      "|                          contract|   21|\n",
      "|                        internship|   80|\n",
      "|                         full-time| 6130|\n",
      "|                         part-time|   10|\n",
      "+----------------------------------+-----+\n",
      "\n"
     ]
    }
   ],
   "source": [
    "# In pyspark \n",
    "from pyspark.sql.functions import col, when, lower\n",
    "from pyspark.sql import DataFrame\n",
    "from utils.data_cleaning_utils import clean_employment_type_column\n",
    "\n",
    "\n",
    "df_resume_label_joined = clean_employment_type_column(df_resume_label_joined, \"employment_type_preference\")\n",
    "\n",
    "# Check new counts\n",
    "df_resume_label_joined.groupBy(\"employment_type_preference_cleaned\") \\\n",
    "    .agg(count(\"*\").alias(\"count\")) \\\n",
    "    .show()\n"
   ]
  },
  {
   "cell_type": "code",
   "execution_count": 374,
   "id": "15cc774f-1571-489f-a268-39d22869be23",
   "metadata": {},
   "outputs": [
    {
     "data": {
      "image/png": "[encoded data removed]",
      "text/plain": [
       "<Figure size 1000x600 with 1 Axes>"
      ]
     },
     "metadata": {},
     "output_type": "display_data"
    }
   ],
   "source": [
    "import seaborn as sns\n",
    "\n",
    "# Group and count the data\n",
    "group_counts = df_resume_label_joined.groupby(['employment_type_preference_cleaned', 'fit_grouped']).size().reset_index(name='counts')\n",
    "\n",
    "# Plot\n",
    "plt.figure(figsize=(10,6))\n",
    "sns.barplot(data=group_counts, \n",
    "            x='employment_type_preference_cleaned', \n",
    "            y='counts', \n",
    "            hue='fit_grouped', \n",
    "            palette='Set2')\n",
    "\n",
    "plt.title('Employment Type Preference Distribution by Fit')\n",
    "plt.xlabel('Employment Type Preference')\n",
    "plt.ylabel('Count')\n",
    "plt.xticks(rotation=45)\n",
    "plt.grid(axis='y', linestyle='--', alpha=0.7)\n",
    "plt.legend(title='Fit Label')\n",
    "plt.tight_layout()\n",
    "plt.show()"
   ]
  },
  {
   "cell_type": "code",
   "execution_count": 375,
   "id": "dc2286a8-5533-40ca-aa83-dff9b3308e3c",
   "metadata": {},
   "outputs": [
    {
     "data": {
      "image/png": "[encoded data removed]",
      "text/plain": [
       "<Figure size 1000x600 with 1 Axes>"
      ]
     },
     "metadata": {},
     "output_type": "display_data"
    }
   ],
   "source": [
    "# Group and count the data\n",
    "group_counts = df_resume_label_joined.groupby(['employment_type_preference_cleaned', 'fit_grouped']).size().reset_index(name='counts')\n",
    "\n",
    "# Calculate total counts per employment type\n",
    "total_counts = group_counts.groupby('employment_type_preference_cleaned')['counts'].transform('sum')\n",
    "\n",
    "# Calculate ratio\n",
    "group_counts['ratio'] = group_counts['counts'] / total_counts\n",
    "\n",
    "# Plot ratio with seaborn\n",
    "plt.figure(figsize=(10,6))\n",
    "sns.barplot(data=group_counts,\n",
    "            x='employment_type_preference_cleaned',\n",
    "            y='ratio',\n",
    "            hue='fit_grouped',\n",
    "            palette='Set2')\n",
    "\n",
    "plt.title('Employment Type Preference Distribution by Fit (Proportion)')\n",
    "plt.xlabel('Employment Type Preference')\n",
    "plt.ylabel('Proportion')\n",
    "plt.xticks(rotation=45)\n",
    "plt.grid(axis='y', linestyle='--', alpha=0.7)\n",
    "plt.legend(title='Fit Label')\n",
    "plt.tight_layout()\n",
    "plt.show()\n"
   ]
  },
  {
   "cell_type": "markdown",
   "id": "97cb7a96-ab0b-4c50-8e73-53ff58e5c4cf",
   "metadata": {},
   "source": [
    "#### location preference "
   ]
  },
  {
   "cell_type": "code",
   "execution_count": null,
   "id": "b3151a05-88ae-4d19-928c-802dea0f9574",
   "metadata": {},
   "outputs": [],
   "source": [
    "location_pref_counts = df_resume_label_joined['location_preference'].value_counts(dropna=False)\n",
    "print(\"Location Type Preference Counts:\")\n",
    "print(location_pref_counts)\n"
   ]
  },
  {
   "cell_type": "code",
   "execution_count": 14,
   "id": "dddd86c6-51e8-4cd4-9a5c-2c5ea30fad2e",
   "metadata": {},
   "outputs": [
    {
     "name": "stdout",
     "output_type": "stream",
     "text": [
      "Location Type Preference Counts:\n",
      "+--------------------+-----+\n",
      "| location_preference|count|\n",
      "+--------------------+-----+\n",
      "|Chicago, IL or De...|   22|\n",
      "|              Remote|    1|\n",
      "|Minneapolis/St Pa...|    2|\n",
      "|                NULL| 6095|\n",
      "| Willing to relocate|   10|\n",
      "|                 WFH|   24|\n",
      "|        Wfh_City, MI|   12|\n",
      "|            Flexible|    7|\n",
      "|California or the...|    4|\n",
      "|remote flexible s...|   13|\n",
      "|                  UK|   17|\n",
      "|             Houston|    7|\n",
      "|   Ready to relocate|   15|\n",
      "|              remote|   12|\n",
      "+--------------------+-----+\n",
      "\n"
     ]
    }
   ],
   "source": [
    "\n",
    "location_pref_counts = df_resume_label_joined.groupBy(\"location_preference\").agg(\n",
    "    count(\"*\").alias(\"count\")\n",
    ")\n",
    "\n",
    "print(\"Location Type Preference Counts:\")\n",
    "location_pref_counts.show()\n"
   ]
  },
  {
   "cell_type": "code",
   "execution_count": 2,
   "id": "4e70a9eb-fbdc-4adc-993d-4df65b4258e9",
   "metadata": {},
   "outputs": [
    {
     "name": "stdout",
     "output_type": "stream",
     "text": [
      "    id       name  state_id state_code  state_name  country_id country_code  \\\n",
      "0   52  Ashkāsham      3901        BDS  Badakhshan           1           AF   \n",
      "1   68   Fayzabad      3901        BDS  Badakhshan           1           AF   \n",
      "2   78       Jurm      3901        BDS  Badakhshan           1           AF   \n",
      "3   84    Khandūd      3901        BDS  Badakhshan           1           AF   \n",
      "4  115  Rāghistān      3901        BDS  Badakhshan           1           AF   \n",
      "\n",
      "  country_name  latitude  longitude wikiDataId  \n",
      "0  Afghanistan  36.68333   71.53333   Q4805192  \n",
      "1  Afghanistan  37.11664   70.58002    Q156558  \n",
      "2  Afghanistan  36.86477   70.83421  Q10308323  \n",
      "3  Afghanistan  36.95127   72.31800   Q3290334  \n",
      "4  Afghanistan  37.66079   70.67346   Q2670909  \n"
     ]
    }
   ],
   "source": [
    "city_state_list = r'datamart/bronze/location/cities.csv'\n",
    "city_state_df = pd.read_csv(city_state_list)\n",
    "print(city_state_df.head(5))"
   ]
  },
  {
   "cell_type": "code",
   "execution_count": 377,
   "id": "b81c6ef7-ba78-480d-9b20-831478b654a0",
   "metadata": {},
   "outputs": [],
   "source": [
    "location_lookup = {}\n",
    "us_country_code = 'US'  # Focus on US states only (data too dirty for now. future prompt engineering is needed)\n",
    "country_codes = set(city_state_df['country_code'].dropna().unique())\n",
    "\n",
    "# Build location lookup dictionary for US states only\n",
    "for idx, row in city_state_df.iterrows():\n",
    "    if row['country_code'] != us_country_code:  # Skip non-US rows\n",
    "        continue\n",
    "\n",
    "    city_name = str(row['name']).strip().lower() if pd.notna(row['name']) else None\n",
    "    state_code = str(row['state_code']).strip().lower() if pd.notna(row['state_code']) else None\n",
    "    state_name = str(row['state_name']).strip().lower() if pd.notna(row['state_name']) else None\n",
    "\n",
    "    if state_code:\n",
    "        location_lookup[state_code] = row['state_code'] \n",
    "    if state_name:\n",
    "        location_lookup[state_name] = row['state_code']\n",
    "    if city_name:\n",
    "        location_lookup[city_name] = row['state_code']\n"
   ]
  },
  {
   "cell_type": "code",
   "execution_count": 378,
   "id": "bfd70dd1-0ac1-48bc-ab0a-cd3e10820d03",
   "metadata": {},
   "outputs": [],
   "source": [
    "def standardize_location(location_str):\n",
    "    if pd.isna(location_str):\n",
    "        return 'Not specified'\n",
    "\n",
    "    loc = location_str.strip().lower()\n",
    "    parts = re.split(r',|\\bor\\b|\\/|\\band\\b', loc)  # split by , or / or and\n",
    "\n",
    "    for part in parts:\n",
    "        part = part.strip()\n",
    "\n",
    "        # Check if the part matches the lookup\n",
    "        if part in location_lookup:\n",
    "            return location_lookup[part]\n",
    "\n",
    "    return 'Not specified'"
   ]
  },
  {
   "cell_type": "code",
   "execution_count": null,
   "id": "00b8ac40-3a63-42fd-b0b6-4b5dc2e2e81d",
   "metadata": {},
   "outputs": [],
   "source": [
    "# ################# JUST CHECK SAME STATE AND CITY ID \n",
    "\n",
    "# for idx, row in city_state_df.iterrows():\n",
    "#     state_code = row['state_code'].strip().upper() if pd.notna(row['state_code']) else None\n",
    "\n",
    "#     if not state_code:\n",
    "#         continue  # skip if state_code is missing\n",
    "\n",
    "#     # Map city name to state_code\n",
    "#     if pd.notna(row['name']):\n",
    "#         location_lookup[row['name'].strip().lower()] = state_code\n",
    "#     # Map state name to state_code\n",
    "#     if pd.notna(row['state_name']):\n",
    "#         location_lookup[row['state_name'].strip().lower()] = state_code\n",
    "\n",
    "\n",
    "# ############################# INCLUDE ALL STATE AND COUNTRY \n",
    "\n",
    "# country_codes = set(city_state_df['country_code'].dropna().unique())\n",
    "\n",
    "# # build state lookup only (not country)\n",
    "# location_lookup = {}\n",
    "\n",
    "# for idx, row in city_state_df.iterrows():\n",
    "#     city_name = str(row['name']).strip().lower() if pd.notna(row['name']) else None\n",
    "#     state_code = str(row['state_code']).strip().lower() if pd.notna(row['state_code']) else None\n",
    "#     state_name = str(row['state_name']).strip().lower() if pd.notna(row['state_name']) else None\n",
    "#     country_code = str(row['country_code']).strip() if pd.notna(row['country_code']) else None\n",
    "#     country_name = str(row['country_name']).strip().lower() if pd.notna(row['country_name']) else None\n",
    "    \n",
    "#     # Map state code and state name only\n",
    "#     if state_code:\n",
    "#         location_lookup[state_code] = row['state_code'] \n",
    "#     if state_name:\n",
    "#         location_lookup[state_name] = row['state_code']\n",
    "\n",
    "\n",
    "# def standardize_location(location_str):\n",
    "#     if pd.isna(location_str):\n",
    "#         return 'Not specified'\n",
    "\n",
    "#     loc = location_str.strip().lower()\n",
    "\n",
    "#     # Split the location string by common delimiters\n",
    "#     parts = re.split(r',|\\bor\\b|\\/|\\band\\b', loc)\n",
    "\n",
    "#     for part in parts:\n",
    "#         part = part.strip()\n",
    "\n",
    "#         # Skip if part is a known country code\n",
    "#         if part in country_codes:\n",
    "#             continue  \n",
    "\n",
    "#         # Check if the part matches state code or name\n",
    "#         if part in location_lookup:\n",
    "#             return location_lookup[part]\n",
    "\n",
    "#     return 'Not specified'\n"
   ]
  },
  {
   "cell_type": "code",
   "execution_count": 379,
   "id": "1c1a3be5-3a1a-485b-9a2b-0418e88c725d",
   "metadata": {},
   "outputs": [],
   "source": [
    "# Apply to dataframe\n",
    "df_resume_label_joined['location_standardized'] = df_resume_label_joined['location_preference'].apply(standardize_location)\n"
   ]
  },
  {
   "cell_type": "code",
   "execution_count": 380,
   "id": "72cba4df-fc0d-4c52-91c1-de18dd2c4da7",
   "metadata": {},
   "outputs": [
    {
     "name": "stdout",
     "output_type": "stream",
     "text": [
      "Unique Original Locations:\n",
      "['California or the Southern United States', 'Chicago, IL or Denver, CO', 'Flexible', 'Houston', 'Minneapolis/St Paul Minnesota area', 'Ready to relocate', 'Remote', 'UK', 'WFH', 'Wfh_City, MI', 'Willing to relocate', 'remote', 'remote flexible schedule']\n",
      "\n",
      "Unique Standardized Locations:\n",
      "['IL', 'MI', 'MN', 'Not specified', 'PA', 'TX']\n"
     ]
    }
   ],
   "source": [
    "print(\"Unique Original Locations:\")\n",
    "print(sorted(df_resume_label_joined['location_preference'].dropna().unique()))\n",
    "\n",
    "print(\"\\nUnique Standardized Locations:\")\n",
    "print(sorted(df_resume_label_joined['location_standardized'].unique()))\n",
    "\n"
   ]
  },
  {
   "cell_type": "code",
   "execution_count": 8,
   "id": "f666de40-e27e-437f-bee1-5e9548c1544e",
   "metadata": {},
   "outputs": [],
   "source": [
    "from utils.data_cleaning_utils import location_lookup, standardize_location_column\n",
    "\n",
    "location_dict = location_lookup(city_state_df)\n",
    "\n",
    "df_resume_label_joined = standardize_location_column(\n",
    "    df_resume_label_joined,\n",
    "    location_col=\"location_preference\",\n",
    "    location_lookup=location_dict,\n",
    ")\n"
   ]
  },
  {
   "cell_type": "code",
   "execution_count": 9,
   "id": "c6f32fca-a794-4f57-838d-e8f02972a8c6",
   "metadata": {},
   "outputs": [
    {
     "name": "stdout",
     "output_type": "stream",
     "text": [
      "Unique Original Locations:\n"
     ]
    },
    {
     "name": "stderr",
     "output_type": "stream",
     "text": [
      "                                                                                "
     ]
    },
    {
     "name": "stdout",
     "output_type": "stream",
     "text": [
      "['California or the Southern United States', 'Chicago, IL or Denver, CO', 'Flexible', 'Houston', 'Minneapolis/St Paul Minnesota area', 'Ready to relocate', 'Remote', 'UK', 'WFH', 'Wfh_City, MI', 'Willing to relocate', 'remote', 'remote flexible schedule']\n",
      "\n",
      "Unique Standardized Locations:\n"
     ]
    },
    {
     "name": "stderr",
     "output_type": "stream",
     "text": [
      "[Stage 22:>                                                         (0 + 1) / 1]"
     ]
    },
    {
     "name": "stdout",
     "output_type": "stream",
     "text": [
      "['IL', 'MI', 'MN', 'Not specified', 'PA', 'TX']\n"
     ]
    },
    {
     "name": "stderr",
     "output_type": "stream",
     "text": [
      "                                                                                "
     ]
    }
   ],
   "source": [
    "print(\"Unique Original Locations:\")\n",
    "original_locations = df_resume_label_joined.select(\"location_preference\") \\\n",
    "    .where(col(\"location_preference\").isNotNull()) \\\n",
    "    .distinct() \\\n",
    "    .orderBy(\"location_preference\") \\\n",
    "    .rdd.flatMap(lambda x: x) \\\n",
    "    .collect()\n",
    "print(original_locations)\n",
    "\n",
    "print(\"\\nUnique Standardized Locations:\")\n",
    "standardized_locations = df_resume_label_joined.select(\"location_preference_cleaned\") \\\n",
    "    .where(col(\"location_preference_cleaned\").isNotNull()) \\\n",
    "    .distinct() \\\n",
    "    .orderBy(\"location_preference_cleaned\") \\\n",
    "    .rdd.flatMap(lambda x: x) \\\n",
    "    .collect()\n",
    "print(standardized_locations)\n"
   ]
  },
  {
   "cell_type": "code",
   "execution_count": 381,
   "id": "ae51996a-3e2c-4ff6-8b74-8ff437efa598",
   "metadata": {},
   "outputs": [
    {
     "name": "stderr",
     "output_type": "stream",
     "text": [
      "/tmp/ipykernel_14/4269498042.py:13: MatplotlibDeprecationWarning: The get_cmap function was deprecated in Matplotlib 3.7 and will be removed in 3.11. Use ``matplotlib.colormaps[name]`` or ``matplotlib.colormaps.get_cmap()`` or ``pyplot.get_cmap()`` instead.\n",
      "  cmap = cm.get_cmap('Set1', num_classes)  # Use Set1 colormap\n"
     ]
    },
    {
     "data": {
      "image/png": "[encoded data removed]",
      "text/plain": [
       "<Figure size 1400x700 with 1 Axes>"
      ]
     },
     "metadata": {},
     "output_type": "display_data"
    }
   ],
   "source": [
    "import matplotlib.pyplot as plt\n",
    "import matplotlib.cm as cm\n",
    "\n",
    "fit_counts = df_resume_label_joined.groupby(['location_standardized', 'fit_grouped']).size().unstack(fill_value=0)\n",
    "\n",
    "# Sort locations by total counts (optional)\n",
    "fit_counts['total'] = fit_counts.sum(axis=1)\n",
    "fit_counts = fit_counts.sort_values('total', ascending=False)\n",
    "\n",
    "fit_classes = fit_counts.columns.drop('total')\n",
    "num_classes = len(fit_classes)\n",
    "\n",
    "cmap = cm.get_cmap('Set1', num_classes)  # Use Set1 colormap\n",
    "colors = [cmap(i) for i in range(num_classes)]\n",
    "\n",
    "fit_counts[fit_classes].plot(\n",
    "    kind='bar',\n",
    "    stacked=True,\n",
    "    figsize=(14,7),\n",
    "    color=colors\n",
    ")\n",
    "\n",
    "plt.xlabel('Original Location')\n",
    "plt.ylabel('Count')\n",
    "plt.title('Fit Counts by Original Location')\n",
    "plt.legend(title='Fit Class')\n",
    "plt.xticks(rotation=45, ha='right')\n",
    "plt.tight_layout()\n",
    "plt.show()\n"
   ]
  },
  {
   "cell_type": "code",
   "execution_count": 382,
   "id": "b5b15af9-d25a-4f1d-b1b9-b78854fd5252",
   "metadata": {},
   "outputs": [
    {
     "name": "stderr",
     "output_type": "stream",
     "text": [
      "/tmp/ipykernel_14/3631961157.py:15: MatplotlibDeprecationWarning: The get_cmap function was deprecated in Matplotlib 3.7 and will be removed in 3.11. Use ``matplotlib.colormaps[name]`` or ``matplotlib.colormaps.get_cmap()`` or ``pyplot.get_cmap()`` instead.\n",
      "  cmap = cm.get_cmap('Set1', num_classes)\n"
     ]
    },
    {
     "data": {
      "image/png": "[encoded data removed]",
      "text/plain": [
       "<Figure size 1400x700 with 1 Axes>"
      ]
     },
     "metadata": {},
     "output_type": "display_data"
    }
   ],
   "source": [
    "import matplotlib.pyplot as plt\n",
    "import matplotlib.cm as cm\n",
    "\n",
    "fit_counts = df_resume_label_joined.groupby(['location_standardized', 'fit_grouped']).size().unstack(fill_value=0)\n",
    "\n",
    "fit_counts['total'] = fit_counts.sum(axis=1)\n",
    "fit_counts = fit_counts.sort_values('total', ascending=False)\n",
    "\n",
    "fit_classes = fit_counts.columns.drop('total')\n",
    "\n",
    "# Normalize each row to sum to 1 (ratio)\n",
    "fit_ratios = fit_counts[fit_classes].div(fit_counts['total'], axis=0)\n",
    "\n",
    "num_classes = len(fit_classes)\n",
    "cmap = cm.get_cmap('Set1', num_classes)\n",
    "colors = [cmap(i) for i in range(num_classes)]\n",
    "\n",
    "fit_ratios.plot(\n",
    "    kind='bar',\n",
    "    stacked=True,\n",
    "    figsize=(14,7),\n",
    "    color=colors\n",
    ")\n",
    "\n",
    "plt.xlabel('Standardized Location')\n",
    "plt.ylabel('Proportion')\n",
    "plt.title('Fit Class Distribution by Location (Ratio)')\n",
    "plt.legend(title='Fit Class')\n",
    "plt.xticks(rotation=45, ha='right')\n",
    "plt.tight_layout()\n",
    "plt.show()"
   ]
  },
  {
   "cell_type": "markdown",
   "id": "829ff62d-cee1-45cb-8f07-05930cca473d",
   "metadata": {},
   "source": [
    "#### certification"
   ]
  },
  {
   "cell_type": "code",
   "execution_count": 307,
   "id": "93160553-9454-4d29-81d3-55f2b4cb626d",
   "metadata": {},
   "outputs": [
    {
     "name": "stdout",
     "output_type": "stream",
     "text": [
      "Sample Certification Counts:\n",
      "      resume_id                                     certifications  \\\n",
      "0  RES_Lrgk1qIc                                                 []   \n",
      "1  RES_kUoPlNoI                                                 []   \n",
      "2  RES_s93wTCLp  [ADCO PTW (Permit To-Work) system training cer...   \n",
      "3  RES_W35SEzlG                                                 []   \n",
      "4  RES_kQiZZseA                 [Cosmetology License, CNA License]   \n",
      "\n",
      "   certification_count  \n",
      "0                    0  \n",
      "1                    0  \n",
      "2                    3  \n",
      "3                    0  \n",
      "4                    2  \n"
     ]
    }
   ],
   "source": [
    "def count_certifications(x):\n",
    "    if isinstance(x, float) and pd.isna(x):\n",
    "        return 0\n",
    "    elif isinstance(x, list):\n",
    "        return len(x)\n",
    "    elif isinstance(x, np.ndarray):\n",
    "        return len(x)\n",
    "    elif isinstance(x, str):\n",
    "        # Split by comma, filter out empty strings\n",
    "        return len([i for i in x.split(',') if i.strip() != ''])\n",
    "    else:\n",
    "        return 0  # fallback for any unexpected type\n",
    "\n",
    "df_resume_label_joined['certification_count'] = df_silver_resume['certifications'].apply(count_certifications)\n",
    "\n",
    "print(\"Sample Certification Counts:\")\n",
    "print(df_resume_label_joined[['resume_id', 'certifications', 'certification_count']].head())\n"
   ]
  },
  {
   "cell_type": "code",
   "execution_count": null,
   "id": "a885c23d-3705-4759-9512-e2266c5481bd",
   "metadata": {},
   "outputs": [],
   "source": []
  },
  {
   "cell_type": "code",
   "execution_count": 308,
   "id": "ee8c974c-6ca8-47a0-824f-84a6f9adf83c",
   "metadata": {},
   "outputs": [
    {
     "name": "stderr",
     "output_type": "stream",
     "text": [
      "/tmp/ipykernel_14/1392260505.py:5: FutureWarning: \n",
      "\n",
      "Passing `palette` without assigning `hue` is deprecated and will be removed in v0.14.0. Assign the `x` variable to `hue` and set `legend=False` for the same effect.\n",
      "\n",
      "  sns.stripplot(data=df_resume_label_joined, x='fit', y='certification_count', jitter=True, palette='Set1', edgecolor='gray', linewidth=0.5)\n",
      "/tmp/ipykernel_14/1392260505.py:5: FutureWarning: Use \"auto\" to set automatic grayscale colors. From v0.14.0, \"gray\" will default to matplotlib's definition.\n",
      "  sns.stripplot(data=df_resume_label_joined, x='fit', y='certification_count', jitter=True, palette='Set1', edgecolor='gray', linewidth=0.5)\n"
     ]
    },
    {
     "data": {
      "image/png": "[encoded data removed]",
      "text/plain": [
       "<Figure size 800x600 with 1 Axes>"
      ]
     },
     "metadata": {},
     "output_type": "display_data"
    }
   ],
   "source": [
    "plt.figure(figsize=(8,6))\n",
    "sns.stripplot(data=df_resume_label_joined, x='fit', y='certification_count', jitter=True, palette='Set1', edgecolor='gray', linewidth=0.5)\n",
    "\n",
    "plt.title('Scatter Plot of Certification Count by Fit')\n",
    "plt.xlabel('Fit Label')\n",
    "plt.ylabel('Certification Count')\n",
    "plt.grid(axis='y', linestyle='--', alpha=0.7)\n",
    "plt.tight_layout()\n",
    "plt.show()\n"
   ]
  },
  {
   "cell_type": "markdown",
   "id": "477dd47e-fa0b-49ec-bb20-4918ac90168a",
   "metadata": {},
   "source": [
    "#### work authorization"
   ]
  },
  {
   "cell_type": "code",
   "execution_count": 309,
   "id": "41bcb78e-e1af-47d9-8cd5-e8093a39e3db",
   "metadata": {},
   "outputs": [
    {
     "name": "stdout",
     "output_type": "stream",
     "text": [
      "Work Authorization Counts:\n",
      "work_authorization\n",
      "None                                                               6110\n",
      "United States Citizen                                                34\n",
      "US Citizen and authorized to work in the US without sponsorship      24\n",
      "Valid VISA to work in UK                                             17\n",
      "H1B Visa                                                             11\n",
      "Authorized to work in the US for any employer                        11\n",
      "United States Navy with a Secret security clearance                  10\n",
      "Authorized to work in US                                              7\n",
      "Secret security clearance                                             6\n",
      "H1-B Visa                                                             4\n",
      "US Citizen                                                            3\n",
      "Do not require sponsorship                                            3\n",
      "Secret Security Clearance                                             1\n",
      "Name: count, dtype: int64\n"
     ]
    }
   ],
   "source": [
    "work_auth_counts = df_resume_label_joined['work_authorization'].value_counts(dropna=False)\n",
    "print(\"Work Authorization Counts:\")\n",
    "print(work_auth_counts)\n"
   ]
  },
  {
   "cell_type": "code",
   "execution_count": 10,
   "id": "8be844e9-8030-4ced-a231-7a3856773bbb",
   "metadata": {},
   "outputs": [
    {
     "name": "stdout",
     "output_type": "stream",
     "text": [
      "Work Authorization Counts:\n",
      "+---------------------------------------------------------------+-----+\n",
      "|work_authorization_filled                                      |count|\n",
      "+---------------------------------------------------------------+-----+\n",
      "|null                                                           |6110 |\n",
      "|United States Citizen                                          |34   |\n",
      "|US Citizen and authorized to work in the US without sponsorship|24   |\n",
      "|Valid VISA to work in UK                                       |17   |\n",
      "|Authorized to work in the US for any employer                  |11   |\n",
      "|H1B Visa                                                       |11   |\n",
      "|United States Navy with a Secret security clearance            |10   |\n",
      "|Authorized to work in US                                       |7    |\n",
      "|Secret security clearance                                      |6    |\n",
      "|H1-B Visa                                                      |4    |\n",
      "|US Citizen                                                     |3    |\n",
      "|Do not require sponsorship                                     |3    |\n",
      "|Secret Security Clearance                                      |1    |\n",
      "+---------------------------------------------------------------+-----+\n",
      "\n"
     ]
    }
   ],
   "source": [
    "from pyspark.sql.functions import coalesce, lit\n",
    "\n",
    "# Replace nulls with a string to count them as well (e.g., \"null\")\n",
    "df_filled = df_resume_label_joined.withColumn(\n",
    "    \"work_authorization_filled\",\n",
    "    coalesce(col(\"work_authorization\"), lit(\"null\"))\n",
    ")\n",
    "\n",
    "work_auth_counts = df_filled.groupBy(\"work_authorization_filled\").count()\n",
    "\n",
    "print(\"Work Authorization Counts:\")\n",
    "work_auth_counts.orderBy(\"count\", ascending=False).show(truncate=False)\n"
   ]
  },
  {
   "cell_type": "code",
   "execution_count": null,
   "id": "9b3293ed-3b85-4561-ac01-31377647317a",
   "metadata": {},
   "outputs": [],
   "source": [
    "def standardize_work_authorization(x):\n",
    "    if pd.isna(x) or str(x).strip().lower() == 'none':\n",
    "        return 'not needed'\n",
    "\n",
    "    elif re.search(r'do\\s*not\\s*require|no\\s*sponsorship|none', str(x), re.IGNORECASE):\n",
    "        return 'not needed'\n",
    "    else:\n",
    "        return 'needed'\n",
    "\n",
    "# Apply to your DataFrame\n",
    "df_resume_label_joined['work_authorization_cleaned'] = df_resume_label_joined['work_authorization'].apply(standardize_work_authorization)\n",
    "\n",
    "# Check result\n",
    "work_auth_counts_cleaned = df_resume_label_joined['work_authorization_cleaned'].value_counts()\n",
    "print(\"Standardized Work Authorization Counts:\")\n",
    "print(work_auth_counts_cleaned)\n"
   ]
  },
  {
   "cell_type": "code",
   "execution_count": 13,
   "id": "304dd45b-0cb2-4c0a-bf6d-f77b8f94e4df",
   "metadata": {},
   "outputs": [
    {
     "name": "stdout",
     "output_type": "stream",
     "text": [
      "Standardized Work Authorization Counts:\n",
      "+--------------------------+-----+\n",
      "|work_authorization_cleaned|count|\n",
      "+--------------------------+-----+\n",
      "|not needed                |6113 |\n",
      "|needed                    |128  |\n",
      "+--------------------------+-----+\n",
      "\n"
     ]
    }
   ],
   "source": [
    "from utils.data_cleaning_utils import clean_work_authorization_column\n",
    "\n",
    "df_resume_label_joined = clean_work_authorization_column(df_resume_label_joined, \"work_authorization\")\n",
    "\n",
    "# Count and show the standardized work authorization values\n",
    "work_auth_counts_cleaned = df_resume_label_joined.groupBy(\"work_authorization_cleaned\").count()\n",
    "\n",
    "print(\"Standardized Work Authorization Counts:\")\n",
    "work_auth_counts_cleaned.orderBy(\"count\", ascending=False).show(truncate=False)"
   ]
  },
  {
   "cell_type": "code",
   "execution_count": null,
   "id": "5894af56-3342-4c9c-b270-e81dde5c94c1",
   "metadata": {},
   "outputs": [],
   "source": [
    "plt.figure(figsize=(8,6))\n",
    "sns.countplot(\n",
    "    data=df_resume_label_joined,\n",
    "    x='work_authorization_cleaned',\n",
    "    hue='fit',   \n",
    "    palette='Set2'\n",
    ")\n",
    "\n",
    "plt.title('Fit Distribution by Work Authorization')\n",
    "plt.xlabel('Work Authorization')\n",
    "plt.ylabel('Count')\n",
    "plt.xticks(rotation=0)\n",
    "plt.grid(axis='y', linestyle='--', alpha=0.7)\n",
    "plt.legend(title='Fit', bbox_to_anchor=(1.05, 1), loc='upper left')\n",
    "plt.tight_layout()\n",
    "plt.show()\n"
   ]
  },
  {
   "cell_type": "markdown",
   "id": "e44b074a-1d64-4bf2-921e-8d95cc2e93f2",
   "metadata": {},
   "source": [
    "## Job description"
   ]
  },
  {
   "cell_type": "code",
   "execution_count": 310,
   "id": "16fd6615-91dd-4192-9f38-d0c33581a0ac",
   "metadata": {},
   "outputs": [],
   "source": [
    "df_silver_jd = read_bronze_table_as_pandas(\"jobmirror_db\", \"bronze_job_descriptions\")\n",
    "df_silver_label = read_bronze_table_as_pandas(\"jobmirror_db\", \"bronze_labels\")"
   ]
  },
  {
   "cell_type": "code",
   "execution_count": 311,
   "id": "1618980d-0b9f-4933-b83b-7bd3fd87080e",
   "metadata": {},
   "outputs": [
    {
     "data": {
      "text/html": [
       "<div>\n",
       "<style scoped>\n",
       "    .dataframe tbody tr th:only-of-type {\n",
       "        vertical-align: middle;\n",
       "    }\n",
       "\n",
       "    .dataframe tbody tr th {\n",
       "        vertical-align: top;\n",
       "    }\n",
       "\n",
       "    .dataframe thead th {\n",
       "        text-align: right;\n",
       "    }\n",
       "</style>\n",
       "<table border=\"1\" class=\"dataframe\">\n",
       "  <thead>\n",
       "    <tr style=\"text-align: right;\">\n",
       "      <th></th>\n",
       "      <th>company_name</th>\n",
       "      <th>role_title</th>\n",
       "      <th>application_deadline</th>\n",
       "      <th>date_posted</th>\n",
       "      <th>employment_type</th>\n",
       "      <th>about_the_company</th>\n",
       "      <th>job_responsibilities</th>\n",
       "      <th>required_hard_skills</th>\n",
       "      <th>required_soft_skills</th>\n",
       "      <th>required_language_proficiencies</th>\n",
       "      <th>required_education</th>\n",
       "      <th>required_work_authorization</th>\n",
       "      <th>job_location</th>\n",
       "      <th>certifications</th>\n",
       "      <th>snapshot_date</th>\n",
       "      <th>id</th>\n",
       "    </tr>\n",
       "  </thead>\n",
       "  <tbody>\n",
       "    <tr>\n",
       "      <th>0</th>\n",
       "      <td>Medical Device Company</td>\n",
       "      <td>Senior Digital Electronic Engineer</td>\n",
       "      <td>None</td>\n",
       "      <td>None</td>\n",
       "      <td>Full-time</td>\n",
       "      <td>A growing Medical Device company located in Pa...</td>\n",
       "      <td>[Design and develop digital circuits and schem...</td>\n",
       "      <td>[Digital Circuit Design, Schematics, Microproc...</td>\n",
       "      <td>[Teamwork, Communication, Documentation]</td>\n",
       "      <td>[English]</td>\n",
       "      <td>Bachelor's degree in Electrical or Electronics...</td>\n",
       "      <td>None</td>\n",
       "      <td>Parsippany, NJ (Onsite 5 days a week)</td>\n",
       "      <td>[]</td>\n",
       "      <td>2021-10-30</td>\n",
       "      <td>JD_Lrgk1qIc</td>\n",
       "    </tr>\n",
       "    <tr>\n",
       "      <th>1</th>\n",
       "      <td>Fiserv</td>\n",
       "      <td>Software Engineering Manager</td>\n",
       "      <td>None</td>\n",
       "      <td>None</td>\n",
       "      <td>Full-time</td>\n",
       "      <td>Fiserv is a global leader in Fintech and payme...</td>\n",
       "      <td>[Manage cross-functional engineering teams, Ha...</td>\n",
       "      <td>[C, Java, Software Engineering, Financial Serv...</td>\n",
       "      <td>[Communication, Leadership, Problem Solving, T...</td>\n",
       "      <td>[English]</td>\n",
       "      <td>Bachelor's degree in computer science, enginee...</td>\n",
       "      <td>None</td>\n",
       "      <td>None</td>\n",
       "      <td>[AWS, Azure, GCP]</td>\n",
       "      <td>2021-09-17</td>\n",
       "      <td>JD_kUoPlNoI</td>\n",
       "    </tr>\n",
       "    <tr>\n",
       "      <th>2</th>\n",
       "      <td>None</td>\n",
       "      <td>Electronic Engineer</td>\n",
       "      <td>None</td>\n",
       "      <td>None</td>\n",
       "      <td>Full-time</td>\n",
       "      <td>An acoustics, weapon launch and control system...</td>\n",
       "      <td>[Analyze and design analog and digital electro...</td>\n",
       "      <td>[Analog and digital electronic circuit design,...</td>\n",
       "      <td>[]</td>\n",
       "      <td>[English]</td>\n",
       "      <td>None</td>\n",
       "      <td>US Citizen, Active Secret (Will Sponsor a Secr...</td>\n",
       "      <td>Manassas, VA (Hybrid)</td>\n",
       "      <td>[]</td>\n",
       "      <td>2021-07-15</td>\n",
       "      <td>JD_s93wTCLp</td>\n",
       "    </tr>\n",
       "    <tr>\n",
       "      <th>3</th>\n",
       "      <td>Dexian</td>\n",
       "      <td>Accounting Manager</td>\n",
       "      <td>None</td>\n",
       "      <td>None</td>\n",
       "      <td>Full-time</td>\n",
       "      <td>Dexian, formerly Hunter Hollis, is working wit...</td>\n",
       "      <td>[Manage the revenue recognition process accord...</td>\n",
       "      <td>[Revenue cycle management, Accounts receivable...</td>\n",
       "      <td>[]</td>\n",
       "      <td>[English]</td>\n",
       "      <td>Bachelor's Degree</td>\n",
       "      <td>None</td>\n",
       "      <td>Durham, RTP area</td>\n",
       "      <td>[]</td>\n",
       "      <td>2021-10-15</td>\n",
       "      <td>JD_W35SEzlG</td>\n",
       "    </tr>\n",
       "    <tr>\n",
       "      <th>4</th>\n",
       "      <td>BNY Mellon</td>\n",
       "      <td>Business Analyst III</td>\n",
       "      <td>None</td>\n",
       "      <td>None</td>\n",
       "      <td>Contract</td>\n",
       "      <td>Enterprises Data Governance Under Data Quality...</td>\n",
       "      <td>[Working with Data Quality rules and Data Lake...</td>\n",
       "      <td>[Data Quality Model, SQL, Collibra, Jira, Conf...</td>\n",
       "      <td>[Working with Matrix, Data Analysis, Teamwork]</td>\n",
       "      <td>[English]</td>\n",
       "      <td>Minimum 8-12 years of working experience in th...</td>\n",
       "      <td>Candidates without any Visa Constraints</td>\n",
       "      <td>Pittsburgh, PA (Hybrid model, 3 days a week)</td>\n",
       "      <td>[]</td>\n",
       "      <td>2021-06-16</td>\n",
       "      <td>JD_kQiZZseA</td>\n",
       "    </tr>\n",
       "  </tbody>\n",
       "</table>\n",
       "</div>"
      ],
      "text/plain": [
       "             company_name                          role_title  \\\n",
       "0  Medical Device Company  Senior Digital Electronic Engineer   \n",
       "1                  Fiserv        Software Engineering Manager   \n",
       "2                    None                 Electronic Engineer   \n",
       "3                  Dexian                  Accounting Manager   \n",
       "4              BNY Mellon                Business Analyst III   \n",
       "\n",
       "  application_deadline date_posted employment_type  \\\n",
       "0                 None        None       Full-time   \n",
       "1                 None        None       Full-time   \n",
       "2                 None        None       Full-time   \n",
       "3                 None        None       Full-time   \n",
       "4                 None        None        Contract   \n",
       "\n",
       "                                   about_the_company  \\\n",
       "0  A growing Medical Device company located in Pa...   \n",
       "1  Fiserv is a global leader in Fintech and payme...   \n",
       "2  An acoustics, weapon launch and control system...   \n",
       "3  Dexian, formerly Hunter Hollis, is working wit...   \n",
       "4  Enterprises Data Governance Under Data Quality...   \n",
       "\n",
       "                                job_responsibilities  \\\n",
       "0  [Design and develop digital circuits and schem...   \n",
       "1  [Manage cross-functional engineering teams, Ha...   \n",
       "2  [Analyze and design analog and digital electro...   \n",
       "3  [Manage the revenue recognition process accord...   \n",
       "4  [Working with Data Quality rules and Data Lake...   \n",
       "\n",
       "                                required_hard_skills  \\\n",
       "0  [Digital Circuit Design, Schematics, Microproc...   \n",
       "1  [C, Java, Software Engineering, Financial Serv...   \n",
       "2  [Analog and digital electronic circuit design,...   \n",
       "3  [Revenue cycle management, Accounts receivable...   \n",
       "4  [Data Quality Model, SQL, Collibra, Jira, Conf...   \n",
       "\n",
       "                                required_soft_skills  \\\n",
       "0           [Teamwork, Communication, Documentation]   \n",
       "1  [Communication, Leadership, Problem Solving, T...   \n",
       "2                                                 []   \n",
       "3                                                 []   \n",
       "4     [Working with Matrix, Data Analysis, Teamwork]   \n",
       "\n",
       "  required_language_proficiencies  \\\n",
       "0                       [English]   \n",
       "1                       [English]   \n",
       "2                       [English]   \n",
       "3                       [English]   \n",
       "4                       [English]   \n",
       "\n",
       "                                  required_education  \\\n",
       "0  Bachelor's degree in Electrical or Electronics...   \n",
       "1  Bachelor's degree in computer science, enginee...   \n",
       "2                                               None   \n",
       "3                                  Bachelor's Degree   \n",
       "4  Minimum 8-12 years of working experience in th...   \n",
       "\n",
       "                         required_work_authorization  \\\n",
       "0                                               None   \n",
       "1                                               None   \n",
       "2  US Citizen, Active Secret (Will Sponsor a Secr...   \n",
       "3                                               None   \n",
       "4            Candidates without any Visa Constraints   \n",
       "\n",
       "                                   job_location     certifications  \\\n",
       "0         Parsippany, NJ (Onsite 5 days a week)                 []   \n",
       "1                                          None  [AWS, Azure, GCP]   \n",
       "2                         Manassas, VA (Hybrid)                 []   \n",
       "3                              Durham, RTP area                 []   \n",
       "4  Pittsburgh, PA (Hybrid model, 3 days a week)                 []   \n",
       "\n",
       "  snapshot_date           id  \n",
       "0    2021-10-30  JD_Lrgk1qIc  \n",
       "1    2021-09-17  JD_kUoPlNoI  \n",
       "2    2021-07-15  JD_s93wTCLp  \n",
       "3    2021-10-15  JD_W35SEzlG  \n",
       "4    2021-06-16  JD_kQiZZseA  "
      ]
     },
     "execution_count": 311,
     "metadata": {},
     "output_type": "execute_result"
    }
   ],
   "source": [
    "df_silver_jd.head(5)"
   ]
  },
  {
   "cell_type": "code",
   "execution_count": 313,
   "id": "820428db-af36-4373-8af5-7c98777ffde8",
   "metadata": {},
   "outputs": [
    {
     "name": "stdout",
     "output_type": "stream",
     "text": [
      "Joined DataFrame Sample:\n",
      "             company_name                          role_title  \\\n",
      "0  Medical Device Company  Senior Digital Electronic Engineer   \n",
      "1                  Fiserv        Software Engineering Manager   \n",
      "2                    None                 Electronic Engineer   \n",
      "3                  Dexian                  Accounting Manager   \n",
      "4              BNY Mellon                Business Analyst III   \n",
      "\n",
      "  application_deadline date_posted employment_type  \\\n",
      "0                 None        None       Full-time   \n",
      "1                 None        None       Full-time   \n",
      "2                 None        None       Full-time   \n",
      "3                 None        None       Full-time   \n",
      "4                 None        None        Contract   \n",
      "\n",
      "                                   about_the_company  \\\n",
      "0  A growing Medical Device company located in Pa...   \n",
      "1  Fiserv is a global leader in Fintech and payme...   \n",
      "2  An acoustics, weapon launch and control system...   \n",
      "3  Dexian, formerly Hunter Hollis, is working wit...   \n",
      "4  Enterprises Data Governance Under Data Quality...   \n",
      "\n",
      "                                job_responsibilities  \\\n",
      "0  [Design and develop digital circuits and schem...   \n",
      "1  [Manage cross-functional engineering teams, Ha...   \n",
      "2  [Analyze and design analog and digital electro...   \n",
      "3  [Manage the revenue recognition process accord...   \n",
      "4  [Working with Data Quality rules and Data Lake...   \n",
      "\n",
      "                                required_hard_skills  \\\n",
      "0  [Digital Circuit Design, Schematics, Microproc...   \n",
      "1  [C, Java, Software Engineering, Financial Serv...   \n",
      "2  [Analog and digital electronic circuit design,...   \n",
      "3  [Revenue cycle management, Accounts receivable...   \n",
      "4  [Data Quality Model, SQL, Collibra, Jira, Conf...   \n",
      "\n",
      "                                required_soft_skills  \\\n",
      "0           [Teamwork, Communication, Documentation]   \n",
      "1  [Communication, Leadership, Problem Solving, T...   \n",
      "2                                                 []   \n",
      "3                                                 []   \n",
      "4     [Working with Matrix, Data Analysis, Teamwork]   \n",
      "\n",
      "  required_language_proficiencies  ...  \\\n",
      "0                       [English]  ...   \n",
      "1                       [English]  ...   \n",
      "2                       [English]  ...   \n",
      "3                       [English]  ...   \n",
      "4                       [English]  ...   \n",
      "\n",
      "                         required_work_authorization  \\\n",
      "0                                               None   \n",
      "1                                               None   \n",
      "2  US Citizen, Active Secret (Will Sponsor a Secr...   \n",
      "3                                               None   \n",
      "4            Candidates without any Visa Constraints   \n",
      "\n",
      "                                   job_location     certifications  \\\n",
      "0         Parsippany, NJ (Onsite 5 days a week)                 []   \n",
      "1                                          None  [AWS, Azure, GCP]   \n",
      "2                         Manassas, VA (Hybrid)                 []   \n",
      "3                              Durham, RTP area                 []   \n",
      "4  Pittsburgh, PA (Hybrid model, 3 days a week)                 []   \n",
      "\n",
      "  snapshot_date_x         id_x            id_y     resume_id       job_id  \\\n",
      "0      2021-10-30  JD_Lrgk1qIc  LABEL_Lrgk1qIc  RES_Lrgk1qIc  JD_Lrgk1qIc   \n",
      "1      2021-09-17  JD_kUoPlNoI  LABEL_kUoPlNoI  RES_kUoPlNoI  JD_kUoPlNoI   \n",
      "2      2021-07-15  JD_s93wTCLp  LABEL_s93wTCLp  RES_s93wTCLp  JD_s93wTCLp   \n",
      "3      2021-10-15  JD_W35SEzlG  LABEL_W35SEzlG  RES_W35SEzlG  JD_W35SEzlG   \n",
      "4      2021-06-16  JD_kQiZZseA  LABEL_kQiZZseA  RES_kQiZZseA  JD_kQiZZseA   \n",
      "\n",
      "      fit snapshot_date_y  \n",
      "0  No Fit      2021-10-30  \n",
      "1  No Fit      2021-09-17  \n",
      "2  No Fit      2021-07-15  \n",
      "3  No Fit      2021-10-15  \n",
      "4  No Fit      2021-06-16  \n",
      "\n",
      "[5 rows x 21 columns]\n"
     ]
    }
   ],
   "source": [
    "df_jd_label_joined = pd.merge(\n",
    "    df_silver_jd,\n",
    "    df_silver_label,\n",
    "    left_on='id',\n",
    "    right_on='job_id',\n",
    "    how='inner' \n",
    ")\n",
    "\n",
    "print(\"Joined DataFrame Sample:\")\n",
    "print(df_jd_label_joined.head())\n"
   ]
  },
  {
   "cell_type": "code",
   "execution_count": 32,
   "id": "54767ed4-8087-493e-bbb4-05e4579b29fe",
   "metadata": {},
   "outputs": [],
   "source": [
    "df_silver_jd = read_bronze_table_as_pyspark(\"jobmirror_db\", \"bronze_job_descriptions\")\n",
    "df_silver_label = read_bronze_table_as_pyspark(\"jobmirror_db\", \"bronze_labels\")"
   ]
  },
  {
   "cell_type": "code",
   "execution_count": 33,
   "id": "04953141-5cef-4cdd-b677-17093b2da1de",
   "metadata": {},
   "outputs": [
    {
     "name": "stderr",
     "output_type": "stream",
     "text": [
      "[Stage 109:>                                                        (0 + 1) / 1]"
     ]
    },
    {
     "name": "stdout",
     "output_type": "stream",
     "text": [
      "+--------------------+--------------------+--------------------+--------------------+--------------------+-----------+---------------+-----------+--------------------+--------------------+--------------------+--------------------+-------------------------------+--------------------+---------------------------+--------------------+-------------+--------------------+-------------+--------------+-----------+------------+-------------+\n",
      "|                 _id|   about_the_company|application_deadline|      certifications|        company_name|date_posted|employment_type|         id|        job_location|job_responsibilities|  required_education|required_hard_skills|required_language_proficiencies|required_soft_skills|required_work_authorization|          role_title|snapshot_date|                 _id|          fit|            id|     job_id|   resume_id|snapshot_date|\n",
      "+--------------------+--------------------+--------------------+--------------------+--------------------+-----------+---------------+-----------+--------------------+--------------------+--------------------+--------------------+-------------------------------+--------------------+---------------------------+--------------------+-------------+--------------------+-------------+--------------+-----------+------------+-------------+\n",
      "|6848bbba94b34d41e...|Our mission is to...|                NULL|                  []|              Vivint|       NULL|      Full-time|JD_2eeBb5IH|                NULL|[Design and engin...|Bachelor's Degree...|[.NET, C#, SQL, T...|                      [English]|[Problem solving,...|                       NULL|   Software Engineer|   2021-07-17|6848bbba94b34d41e...|       No Fit|LABEL_2eeBb5IH|JD_2eeBb5IH|RES_2eeBb5IH|   2021-07-17|\n",
      "|683f5eee80dcaf129...|                NULL|                NULL|[Salesforce Certi...|                NULL|       NULL|       Contract|JD_4lz0dt2J|  Remote (CST hours)|[Salesforce decla...|                NULL|[Salesforce, Decl...|                      [English]|                  []|       VISA INDEPENDENT ...|Senior Salesforce...|   2021-10-14|684863d094b34d41e...|       No Fit|LABEL_4lz0dt2J|JD_4lz0dt2J|RES_4lz0dt2J|   2021-10-14|\n",
      "|6840c490a1a021512...|BillionToOne is o...|                NULL|                  []|        BillionToOne|       NULL|      Full-time|JD_5jhpDPZq|Remote or Menlo P...|[Develop data sys...|                NULL|[Python, Django, ...|                      [English]|[Simplicity and p...|                       NULL|Senior Software E...|   2021-09-28|6845c06245db0d5e1...|Potential Fit|LABEL_5jhpDPZq|JD_5jhpDPZq|RES_5jhpDPZq|   2021-09-28|\n",
      "|6845e2aee6bc6c7c1...|NBC Sports Next i...|                NULL|[AWS, Airflow, Si...|     NBC Sports Next|       NULL|      Full-time|JD_CYDcYWGr|                NULL|[Work within a sm...|A minimum of 5 ye...|[AWS, Python, Dat...|                      [English]|                  []|                       NULL|    Data Engineer II|   2021-06-27|6845e2afe6bc6c7c1...|     Good Fit|LABEL_CYDcYWGr|JD_CYDcYWGr|RES_CYDcYWGr|   2021-06-27|\n",
      "|6848e31d94b34d41e...|Jewish Family Ser...|                NULL|                  []|Jewish Family Ser...|       NULL|      Full-Time|JD_DkO42U1i|           San Diego|[Deliver monthly ...|Bachelor's degree...|[Accounting, Fina...|                      [English]|[Communication, I...|       Local candidates ...|   Senior Accountant|   2021-10-17|6848e31d94b34d41e...|       No Fit|LABEL_DkO42U1i|JD_DkO42U1i|RES_DkO42U1i|   2021-10-17|\n",
      "+--------------------+--------------------+--------------------+--------------------+--------------------+-----------+---------------+-----------+--------------------+--------------------+--------------------+--------------------+-------------------------------+--------------------+---------------------------+--------------------+-------------+--------------------+-------------+--------------+-----------+------------+-------------+\n",
      "only showing top 5 rows\n",
      "\n"
     ]
    },
    {
     "name": "stderr",
     "output_type": "stream",
     "text": [
      "                                                                                "
     ]
    }
   ],
   "source": [
    "df_jd_label_joined = df_silver_jd.join(\n",
    "    df_silver_label,\n",
    "    df_silver_jd[\"id\"] == df_silver_label[\"job_id\"],\n",
    "    how=\"inner\"\n",
    ")\n",
    "\n",
    "df_jd_label_joined.show(5)"
   ]
  },
  {
   "cell_type": "markdown",
   "id": "ce80ce48-3433-49f1-8279-4f65f56a7d6a",
   "metadata": {},
   "source": [
    "#### employment type"
   ]
  },
  {
   "cell_type": "code",
   "execution_count": 320,
   "id": "8ae2337e-213c-42dd-9d28-75885c530dfb",
   "metadata": {},
   "outputs": [
    {
     "name": "stdout",
     "output_type": "stream",
     "text": [
      "Employment Type Preference Counts:\n",
      "employment_type\n",
      "Full-time           4853\n",
      "Contract            1070\n",
      "Full-Time            104\n",
      "Contract to Hire      77\n",
      "None                  45\n",
      "Part-time             38\n",
      "Internship            26\n",
      "Contract to hire      19\n",
      "Contract-to-hire       8\n",
      "Hybrid                 1\n",
      "Name: count, dtype: int64\n"
     ]
    }
   ],
   "source": [
    "employment_counts = df_jd_label_joined['employment_type_preference'].value_counts(dropna=False)\n",
    "print(\"Employment Type Preference Counts:\")\n",
    "print(employment_counts)\n"
   ]
  },
  {
   "cell_type": "code",
   "execution_count": 324,
   "id": "81e5e1ca-61c5-4d62-9ce6-cd8bef903ad3",
   "metadata": {},
   "outputs": [
    {
     "name": "stdout",
     "output_type": "stream",
     "text": [
      "employment_type_cleaned\n",
      "full-time     5003\n",
      "contract      1174\n",
      "part-time       38\n",
      "internship      26\n",
      "Name: count, dtype: int64\n"
     ]
    }
   ],
   "source": [
    "def clean_employment_type(val):\n",
    "    if pd.isna(val):\n",
    "        return 'full-time' \\\n",
    "    \n",
    "    val = str(val).lower()  \\\n",
    "\n",
    "    if any(keyword in val for keyword in ['full', 'remote', 'flexible', 'fte']):\n",
    "        return 'full-time'\n",
    "    elif 'part' in val:\n",
    "        return 'part-time'\n",
    "    elif 'intern' in val:\n",
    "        return 'internship'\n",
    "    elif 'contract' in val:\n",
    "        return 'contract'\n",
    "    else:\n",
    "        return 'full-time'  \n",
    "\n",
    "# Apply the function\n",
    "df_jd_label_joined['employment_type_cleaned'] = df_jd_label_joined['employment_type'].apply(clean_employment_type)\n",
    "\n",
    "# Check new counts\n",
    "print(df_jd_label_joined['employment_type_cleaned'].value_counts())\n"
   ]
  },
  {
   "cell_type": "code",
   "execution_count": 34,
   "id": "806fc383-1e6c-4d7e-8a7c-5571399b633e",
   "metadata": {},
   "outputs": [
    {
     "name": "stdout",
     "output_type": "stream",
     "text": [
      "Employment Type Preference Counts:\n",
      "+----------------+-----+\n",
      "| employment_type|count|\n",
      "+----------------+-----+\n",
      "|       Part-time|   38|\n",
      "|            NULL|   45|\n",
      "|Contract to hire|   19|\n",
      "|        Contract| 1070|\n",
      "|          Hybrid|    1|\n",
      "|       Full-Time|  104|\n",
      "|Contract to Hire|   77|\n",
      "|       Full-time| 4853|\n",
      "|      Internship|   26|\n",
      "|Contract-to-hire|    8|\n",
      "+----------------+-----+\n",
      "\n"
     ]
    }
   ],
   "source": [
    "employment_counts = df_jd_label_joined.groupBy(\"employment_type\").agg(\n",
    "    count(\"*\").alias(\"count\")\n",
    ")\n",
    "\n",
    "print(\"Employment Type Preference Counts:\")\n",
    "employment_counts.show()\n",
    "\n"
   ]
  },
  {
   "cell_type": "code",
   "execution_count": 37,
   "id": "09c3fef1-161e-411d-9b03-c042428da13e",
   "metadata": {},
   "outputs": [
    {
     "name": "stdout",
     "output_type": "stream",
     "text": [
      "+-----------------------+-----+\n",
      "|employment_type_cleaned|count|\n",
      "+-----------------------+-----+\n",
      "|               contract| 1174|\n",
      "|             internship|   26|\n",
      "|              full-time| 5003|\n",
      "|              part-time|   38|\n",
      "+-----------------------+-----+\n",
      "\n"
     ]
    }
   ],
   "source": [
    "from utils.data_cleaning_utils import clean_employment_type_column\n",
    "\n",
    "df_jd_label_joined = clean_employment_type_column(df_jd_label_joined, \"employment_type\")\n",
    "\n",
    "# Check new counts\n",
    "df_jd_label_joined.groupBy(\"employment_type_cleaned\") \\\n",
    "    .agg(count(\"*\").alias(\"count\")) \\\n",
    "    .show()\n"
   ]
  },
  {
   "cell_type": "code",
   "execution_count": null,
   "id": "dfa69c98-5ff6-49da-8f83-26af2de863bd",
   "metadata": {},
   "outputs": [],
   "source": [
    "# Group and count the data\n",
    "group_counts = df_jd_label_joined.groupby(['employment_type_cleaned', 'fit_grouped']).size().reset_index(name='counts')\n",
    "\n",
    "# Plot\n",
    "plt.figure(figsize=(10,6))\n",
    "sns.barplot(data=group_counts, \n",
    "            x='employment_type_cleaned', \n",
    "            y='counts', \n",
    "            hue='fit_grouped', \n",
    "            palette='Set2')\n",
    "\n",
    "plt.title('Employment Type Preference Distribution by Fit')\n",
    "plt.xlabel('Employment Type Preference')\n",
    "plt.ylabel('Count')\n",
    "plt.xticks(rotation=45)\n",
    "plt.grid(axis='y', linestyle='--', alpha=0.7)\n",
    "plt.legend(title='Fit Label')\n",
    "plt.tight_layout()\n",
    "plt.show()"
   ]
  },
  {
   "cell_type": "code",
   "execution_count": 370,
   "id": "4f72074f-9c4d-411e-b495-4c8d92333c9c",
   "metadata": {},
   "outputs": [
    {
     "data": {
      "image/png": "[encoded data removed]",
      "text/plain": [
       "<Figure size 1000x600 with 1 Axes>"
      ]
     },
     "metadata": {},
     "output_type": "display_data"
    }
   ],
   "source": [
    "# Group and count the data\n",
    "group_counts = df_jd_label_joined.groupby(['employment_type_cleaned', 'fit_grouped']).size().reset_index(name='counts')\n",
    "\n",
    "# Calculate total counts per employment type\n",
    "total_counts = group_counts.groupby('employment_type_cleaned')['counts'].transform('sum')\n",
    "\n",
    "# Calculate ratio\n",
    "group_counts['ratio'] = group_counts['counts'] / total_counts\n",
    "\n",
    "# Plot ratio with seaborn\n",
    "plt.figure(figsize=(10,6))\n",
    "sns.barplot(data=group_counts,\n",
    "            x='employment_type_cleaned',\n",
    "            y='ratio',\n",
    "            hue='fit_grouped',\n",
    "            palette='Set2')\n",
    "\n",
    "plt.title('Employment Type Preference Distribution by Fit (Proportion)')\n",
    "plt.xlabel('Employment Type Preference')\n",
    "plt.ylabel('Proportion')\n",
    "plt.xticks(rotation=45)\n",
    "plt.grid(axis='y', linestyle='--', alpha=0.7)\n",
    "plt.legend(title='Fit Label')\n",
    "plt.tight_layout()\n",
    "plt.show()\n"
   ]
  },
  {
   "cell_type": "markdown",
   "id": "68799e4c-bd14-4920-8d47-dc8243c55a0c",
   "metadata": {},
   "source": [
    "#### job_location      "
   ]
  },
  {
   "cell_type": "code",
   "execution_count": 329,
   "id": "972d0cd1-3cfa-4fc4-8cf7-1440e8d447e9",
   "metadata": {},
   "outputs": [],
   "source": [
    "location_lookup = {}\n",
    "us_country_code = 'US'  # Focus on US states only (data too dirty for now. future prompt engineering is needed)\n",
    "country_codes = set(city_state_df['country_code'].dropna().unique())\n",
    "\n",
    "# Build location lookup dictionary for US states only\n",
    "for idx, row in city_state_df.iterrows():\n",
    "    if row['country_code'] != us_country_code:  # Skip non-US rows\n",
    "        continue\n",
    "\n",
    "    city_name = str(row['name']).strip().lower() if pd.notna(row['name']) else None\n",
    "    state_code = str(row['state_code']).strip().lower() if pd.notna(row['state_code']) else None\n",
    "    state_name = str(row['state_name']).strip().lower() if pd.notna(row['state_name']) else None\n",
    "\n",
    "    if state_code:\n",
    "        location_lookup[state_code] = row['state_code'] \n",
    "    if state_name:\n",
    "        location_lookup[state_name] = row['state_code']\n",
    "    if city_name:\n",
    "        location_lookup[city_name] = row['state_code']\n"
   ]
  },
  {
   "cell_type": "code",
   "execution_count": 330,
   "id": "28a00df2-0457-4360-a668-5a28a75177f4",
   "metadata": {},
   "outputs": [],
   "source": [
    "def standardize_location(location_str):\n",
    "    if pd.isna(location_str):\n",
    "        return 'Not specified'\n",
    "\n",
    "    loc = location_str.strip().lower()\n",
    "    parts = re.split(r',|\\bor\\b|\\/|\\band\\b', loc)  # split by , or / or and\n",
    "\n",
    "    for part in parts:\n",
    "        part = part.strip()\n",
    "        \n",
    "        # Skip if the part matches a known country code (like 'UK', 'UA')\n",
    "        if part.upper() in country_codes:\n",
    "            continue  \n",
    "\n",
    "        # Check if the part matches the lookup\n",
    "        if part in location_lookup:\n",
    "            return location_lookup[part]\n",
    "\n",
    "    return 'Not specified'"
   ]
  },
  {
   "cell_type": "code",
   "execution_count": 331,
   "id": "eccbb59d-d32d-47c6-978d-72149b485f64",
   "metadata": {},
   "outputs": [],
   "source": [
    "# Apply to dataframe\n",
    "df_jd_label_joined['job_location_standardized'] = df_jd_label_joined['job_location'].apply(standardize_location)\n"
   ]
  },
  {
   "cell_type": "code",
   "execution_count": 332,
   "id": "8266668b-3b7c-4ba0-82a2-0d49e73beb44",
   "metadata": {},
   "outputs": [
    {
     "name": "stdout",
     "output_type": "stream",
     "text": [
      "Unique Original Locations:\n",
      "['100% Remote', '100% Remote, EST Time Zone', '701 W 51st St, Austin, TX 78751', '701 W 51st St, Austin, TX 78751 (Remote work within the state of Texas)', '701 W 51st St, Austin, TX 78751 (with remote work options within the state of Texas)', '701 W 51st St, Austin, TX 78751 (with remote work within the state of Texas)', 'Absecon (Hybrid)', 'Ada MI', 'Ada, MI', 'Aliso Viejo, CA', 'Allentown', 'Alpharetta, GA (Hybrid)', 'Alpharetta, GA (Hybrid: 3 days in office, 2 days home)', 'Annapolis, Maryland', 'Atlanta, GA', 'Atlanta, GA (Hybrid)', 'Atlanta, GA (Onsite Role)', 'Atlanta, GA (Onsite)', 'Austin, TX; Irving, TX; Fort Myers, FL', 'Austin, TX; Irving, TX; Fort Myers, FL; Hybrid', 'Bellevue, USA', 'Bentonville, AR or Dallas, TX', 'Berkeley, California', 'Blandon, PA', 'Boonton, NJ', 'Boston, MA (Remote)', 'Canada', 'Carol Stream, IL, Milwaukee, WI and Appleton, WI', 'Carol Stream, IL, Milwaukee, WI, Appleton, WI', 'Chicago, IL', 'Chicago, IL (Hybrid on-site, in office Tues-Thurs)', 'Chicago, IL (Hybrid, on-site Tues-Thurs)', 'Cleveland, OH and Pittsburgh, PA', 'Columbia, MD', 'Columbus, OH (Hybrid schedule: 3 days in office, 2 days home)', 'Columbus, OH (Hybrid: 3 days in office, 2 days home)', 'Columbus, OH (Hybrid: 3 days in office, 2 days remote)', 'Compton, CA 90220', 'Crawford & Wyandot counties, Ohio', 'Dallas, TX', 'Dallas, TX (Hybrid)', 'Dallas, TX (onsite)', 'Dallas, TX (with offices in Austin, New York, Chicago, Portland, and Belfast)', 'Dallas, TX - Onsite', 'Dedham/Westwood area', 'Dedham/Westwood area (Onsite requirements: 3 days Tue - Thur)', 'Dedham/Westwood area, Onsite requirements: 3 days Tue - Thur', 'Dedham/Westwood area, Onsite requirements: 3 days Tue - Thur (flexible hours are available)', 'Denver', 'Denver, CO', 'Detroit, MI (Hybrid)', 'Detroit, MI area (Hybrid)', 'Draper, UT', 'Duluth, GA', 'Durham, RTP area', 'Durham, RTP area (Hybrid)', 'Elmwood Park', 'Fort Wayne, IN (Onsite from day one)', 'Fort Wayne, IN (Onsite from day one, with potential for remote work after initial 10 weeks)', 'Fresno, CA', 'Fully Remote', 'Fully Remote (USA or Canada)', 'Fully remote', 'Fully remote (United States)', 'Fully remote (United States) or in-office (DC, Austin, Chicago, New York)', 'Fully remote (United States) or in-office (DC, Austin, Chicago, or New York)', 'Fully remote (United States, excluding California)', 'Fully remote, priority given to candidates local to Boston, MA; Long Island, NY; or Golden, CO', 'Fully remote, priority to candidates local to Boston, MA; Long Island, NY; or Golden, CO', 'Fully remote, with priority given to candidates local to Boston, MA; Long Island, NY; or Golden, CO', 'Fully-remote (United States)', 'Fully-remote (United States) or in-office (DC, Austin, Chicago, New York)', 'Georgetown, Texas', 'Gilbert, AZ (On-site with hybrid model optional)', 'Gilbert, AZ (on-site with hybrid model optional)', 'Holmdel, NJ', 'Honolulu, Hawaii', 'Houston Office - 5718 WESTHEIMER RD 77057', 'Huntsville, AL', 'Hybrid', 'Hybrid (2 days on-site per week)', 'Hybrid (Austin, TX; Irving, TX; Fort Myers, FL)', 'Hybrid (Baltimore)', 'Hybrid (Dallas, TX and also offices in Austin, New York, Chicago, Portland, and Belfast)', 'Hybrid (Dallas, TX and offices in Austin, New York, Chicago, Portland, and Belfast)', 'Hybrid (Dallas, TX and other offices in Austin, New York, Chicago, Portland, and Belfast)', 'Hybrid (Dallas, TX and other offices)', 'Hybrid (Dallas, TX; Austin, New York, Chicago, Portland, Belfast)', 'Hybrid (Dallas, TX; Austin, TX; New York, NY; Chicago, IL; Portland, OR; Belfast, UK)', 'Hybrid (Dallas, TX; Austin; New York; Chicago; Portland; Belfast)', 'Hybrid (New York City, NY)', 'Hybrid (Passaic, NJ)', 'Hybrid - Chesterfield, Missouri (Work from home 4 days per week)', 'Hybrid - In office Wednesdays in Chesterfield, Missouri (Work from home 4 days per week)', 'Hybrid on-site in Chicago, IL', 'Hybrid to Riverwoods, IL', 'Hybrid work at Lakeland, FL', 'Hybrid working environment, based in the Detroit, MI area', 'Hybrid, North Dallas metroplex', 'Irving, TX', 'Issaquah, WA - Hybrid', 'Issaquah, WA - Hybrid (3 days onsite)', 'Issaquah, WA - Hybrid - 3 days onsite', 'Lakewood, CO (Hybrid)', 'Lansing, MI', 'Lincoln St, Boston, MA (hybrid 2-3 days/week in office)', 'Livermore', 'Los Angeles', 'Louisville, KY (Onsite)', 'Malvern, PA', 'Manassas, VA (Hybrid)', 'Mare Island, CA', 'McLean, VA (Hybrid)', 'Mclean, VA (Hybrid)', 'Menlo Park CA 94025', 'Menlo Park, CA 94025', 'Menomonee Falls (on site)', 'Menomonee Falls (on-site)', 'Merritt Island, FL', 'Miami, FL 33196', 'Milwaukee, WI', 'Milwaukee, WI 53202', 'Minneapolis, MN (Remote)', 'Minneapolis, MN 55402', 'Mix of in-office and remote', 'Montreal, San Francisco Bay Area, Portland, Atlanta', 'Morris Plains, NJ 07960', 'Multiple Locations in the U.S. (Hybrid)', 'Nashville, TN (Remote with local candidates preferred)', 'Nashville, TN (Remote)', 'New York City (Hybrid: 2 days in office, 3 days remote)', 'New York City - Hybrid', 'New York City or Greater Boston Area', 'New York, NY, USA; Cambridge, MA, USA', 'North Reading, MA (Hybrid)', 'Oakbrook, IL', 'Oklahoma City, OK', 'Old Greenwich, CT', 'Old Greenwich, CT (40% Remote)', 'Omaha, NE', 'On-site', 'On-site in Hillsboro, OR and also eligible for hybrid work, Remote Eligible', 'Onsite - Miami, FL', 'Onsite - Miami, FL - 1080 Caribbean Way', 'Orlando', 'Parsippany, NJ', 'Parsippany, NJ (Onsite 5 days a week)', 'Peoria, IL', 'Peoria, IL (Hybrid: Tuesday-Thursday onsite, Monday and Friday remote)', 'Phoenix or Salt Lake City (Onsite)', 'Pittsburgh, PA', 'Pittsburgh, PA (Hybrid model, 3 days a week)', 'Pittsburgh, PA (Hybrid, 3 days a week in office)', 'Pittsburgh, PA (Hybrid, 3 days a week)', 'Pontiac, MI', 'Princeton, NJ', 'Pullman, WA', 'REMOTE', 'REMOTE, team based in Mounds View, MN', 'Raleigh (Hybrid)', 'Remote', 'Remote (Across USA)', 'Remote (CST hours)', 'Remote (California, Florida)', 'Remote (EST hours)', 'Remote (East Coast)', 'Remote (Travel based on project needs to HQ)', 'Remote (United States, excluding California)', 'Remote (must work CST hours)', 'Remote (up to three days a week)', 'Remote (with quarterly in-person gatherings in Dallas, TX)', 'Remote East Coast', 'Remote US (NJ preferred)', 'Remote or Menlo Park or Union City, CA', 'Remote or Menlo Park/Union City, CA', 'Remote with some travel', 'Remote with some travel (up to 25%)', 'Remote within US', 'Remote within the US', 'Remote, California, Florida', 'Remote, USA', 'Remote/Hybrid', 'Remote; Los Angeles Metro preferred, West Coast desired', 'Remote; Los Angeles Metro preferred, West Coast desired but not required', 'Renton, WA or Denton, TX', 'Salem, NH', 'San Diego', 'San Diego, CA or PST Time Zone Only (Remote)', 'San Francisco', 'San Francisco (Hybrid - 3 days in-office)', 'San Francisco (Hybrid)', 'San Francisco Bay area', 'San Francisco, CA', 'San Francisco, Fully Remote', 'San Mateo, Bellevue, Berlin', 'Santa Ana, CA', 'Santa Clara, CA', 'Santa Fe Springs, CA', 'Seattle, WA', 'Seattle, WA, USA; Mountain View, CA, USA', 'Selah, WA', 'South Houston Area', 'St. Louis Park (Hybrid - 3 days in office, 2 days home)', 'St. Louis Park (Hybrid: 3 days in office, 2 days home)', 'St. Louis Park (Hybrid: 3 days in office, 2 days remote)', 'Sunnyvale, CA, USA; Raleigh, NC, USA; Durham, NC, USA', 'Sunnyvale, CA, USA; Seattle, WA, USA', 'Tampa Bay Area', 'Texas', 'Thorofare, NJ', 'Troy, Michigan (Onsite)', 'US-Louisiana-Slidell', 'Waltham, MA (Hybrid)', 'Waltham, MA HQ (Hybrid)', 'Washington DC area', 'Washington DC area (Hybrid)', 'Washington, D.C.', 'Watts area, Los Angeles', 'Westlake Village, CA', 'Westlake Village, CA (must live within 15 miles)', 'White Plains (hybrid)', 'Wilmington, DE', 'Wilmington, DE (Hybrid - 3 days onsite per week)', 'fully remote, however, priority is given to candidates local to Boston, MA; Long Island, NY; or Golden, CO', 'fully remote, priority to Boston, MA; Long Island, NY; or Golden, CO', 'hybrid, North Dallas metroplex', 'onsite']\n",
      "\n",
      "Unique Standardized Locations:\n",
      "['AR', 'CA', 'CO', 'CT', 'FL', 'GA', 'HI', 'IL', 'IN', 'KY', 'MA', 'MD', 'ME', 'MI', 'MN', 'MO', 'NE', 'NJ', 'NY', 'Not specified', 'OH', 'OK', 'OR', 'PA', 'TN', 'TX', 'UT', 'VA', 'WA', 'WI', 'WV']\n"
     ]
    }
   ],
   "source": [
    "print(\"Unique Original Locations:\")\n",
    "print(sorted(df_jd_label_joined['job_location'].dropna().unique()))\n",
    "\n",
    "print(\"\\nUnique Standardized Locations:\")\n",
    "print(sorted(df_jd_label_joined['job_location_standardized'].unique()))\n",
    "\n"
   ]
  },
  {
   "cell_type": "code",
   "execution_count": 38,
   "id": "3d275506-ccce-401c-9c76-a6a8d0123d45",
   "metadata": {},
   "outputs": [
    {
     "name": "stdout",
     "output_type": "stream",
     "text": [
      "Location Type Preference Counts:\n",
      "+--------------------+-----+\n",
      "|        job_location|count|\n",
      "+--------------------+-----+\n",
      "|Fully-remote (Uni...|    2|\n",
      "|Waltham, MA (Hybrid)|   29|\n",
      "|          Duluth, GA|    8|\n",
      "|             On-site|    6|\n",
      "|         Malvern, PA|    6|\n",
      "|Bentonville, AR o...|   12|\n",
      "|Onsite - Miami, F...|    2|\n",
      "|New York City or ...|    9|\n",
      "|hybrid, North Dal...|    2|\n",
      "|         Boonton, NJ|   19|\n",
      "|Menomonee Falls (...|   15|\n",
      "|Chicago, IL (Hybr...|    1|\n",
      "|           Allentown|   27|\n",
      "|Gilbert, AZ (on-s...|    8|\n",
      "|Remote; Los Angel...|    5|\n",
      "|      Huntsville, AL|    7|\n",
      "|Atlanta, GA (Onsi...|    8|\n",
      "|Nashville, TN (Re...|    6|\n",
      "|              Remote|  447|\n",
      "|San Francisco (Hy...|    7|\n",
      "+--------------------+-----+\n",
      "only showing top 20 rows\n",
      "\n",
      "    id       name  state_id state_code  state_name  country_id country_code  \\\n",
      "0   52  Ashkāsham      3901        BDS  Badakhshan           1           AF   \n",
      "1   68   Fayzabad      3901        BDS  Badakhshan           1           AF   \n",
      "2   78       Jurm      3901        BDS  Badakhshan           1           AF   \n",
      "3   84    Khandūd      3901        BDS  Badakhshan           1           AF   \n",
      "4  115  Rāghistān      3901        BDS  Badakhshan           1           AF   \n",
      "\n",
      "  country_name  latitude  longitude wikiDataId  \n",
      "0  Afghanistan  36.68333   71.53333   Q4805192  \n",
      "1  Afghanistan  37.11664   70.58002    Q156558  \n",
      "2  Afghanistan  36.86477   70.83421  Q10308323  \n",
      "3  Afghanistan  36.95127   72.31800   Q3290334  \n",
      "4  Afghanistan  37.66079   70.67346   Q2670909  \n"
     ]
    }
   ],
   "source": [
    "from utils.data_cleaning_utils import location_lookup, standardize_location_column\n",
    "\n",
    "location_pref_counts = df_jd_label_joined.groupBy(\"job_location\").agg(\n",
    "    count(\"*\").alias(\"count\")\n",
    ")\n",
    "\n",
    "print(\"Location Type Preference Counts:\")\n",
    "location_pref_counts.show()\n",
    "\n",
    "city_state_list = r'datamart/bronze/location/cities.csv'\n",
    "city_state_df = pd.read_csv(city_state_list)\n",
    "print(city_state_df.head(5))\n",
    "\n",
    "\n",
    "location_dict = location_lookup(city_state_df)\n"
   ]
  },
  {
   "cell_type": "code",
   "execution_count": 40,
   "id": "9620a582-6af3-4913-ab1b-67c22756864c",
   "metadata": {},
   "outputs": [
    {
     "name": "stdout",
     "output_type": "stream",
     "text": [
      "Unique Original Locations:\n",
      "['100% Remote', '100% Remote, EST Time Zone', '701 W 51st St, Austin, TX 78751', '701 W 51st St, Austin, TX 78751 (Remote work within the state of Texas)', '701 W 51st St, Austin, TX 78751 (with remote work options within the state of Texas)', '701 W 51st St, Austin, TX 78751 (with remote work within the state of Texas)', 'Absecon (Hybrid)', 'Ada MI', 'Ada, MI', 'Aliso Viejo, CA', 'Allentown', 'Alpharetta, GA (Hybrid)', 'Alpharetta, GA (Hybrid: 3 days in office, 2 days home)', 'Annapolis, Maryland', 'Atlanta, GA', 'Atlanta, GA (Hybrid)', 'Atlanta, GA (Onsite Role)', 'Atlanta, GA (Onsite)', 'Austin, TX; Irving, TX; Fort Myers, FL', 'Austin, TX; Irving, TX; Fort Myers, FL; Hybrid', 'Bellevue, USA', 'Bentonville, AR or Dallas, TX', 'Berkeley, California', 'Blandon, PA', 'Boonton, NJ', 'Boston, MA (Remote)', 'Canada', 'Carol Stream, IL, Milwaukee, WI and Appleton, WI', 'Carol Stream, IL, Milwaukee, WI, Appleton, WI', 'Chicago, IL', 'Chicago, IL (Hybrid on-site, in office Tues-Thurs)', 'Chicago, IL (Hybrid, on-site Tues-Thurs)', 'Cleveland, OH and Pittsburgh, PA', 'Columbia, MD', 'Columbus, OH (Hybrid schedule: 3 days in office, 2 days home)', 'Columbus, OH (Hybrid: 3 days in office, 2 days home)', 'Columbus, OH (Hybrid: 3 days in office, 2 days remote)', 'Compton, CA 90220', 'Crawford & Wyandot counties, Ohio', 'Dallas, TX', 'Dallas, TX (Hybrid)', 'Dallas, TX (onsite)', 'Dallas, TX (with offices in Austin, New York, Chicago, Portland, and Belfast)', 'Dallas, TX - Onsite', 'Dedham/Westwood area', 'Dedham/Westwood area (Onsite requirements: 3 days Tue - Thur)', 'Dedham/Westwood area, Onsite requirements: 3 days Tue - Thur', 'Dedham/Westwood area, Onsite requirements: 3 days Tue - Thur (flexible hours are available)', 'Denver', 'Denver, CO', 'Detroit, MI (Hybrid)', 'Detroit, MI area (Hybrid)', 'Draper, UT', 'Duluth, GA', 'Durham, RTP area', 'Durham, RTP area (Hybrid)', 'Elmwood Park', 'Fort Wayne, IN (Onsite from day one)', 'Fort Wayne, IN (Onsite from day one, with potential for remote work after initial 10 weeks)', 'Fresno, CA', 'Fully Remote', 'Fully Remote (USA or Canada)', 'Fully remote', 'Fully remote (United States)', 'Fully remote (United States) or in-office (DC, Austin, Chicago, New York)', 'Fully remote (United States) or in-office (DC, Austin, Chicago, or New York)', 'Fully remote (United States, excluding California)', 'Fully remote, priority given to candidates local to Boston, MA; Long Island, NY; or Golden, CO', 'Fully remote, priority to candidates local to Boston, MA; Long Island, NY; or Golden, CO', 'Fully remote, with priority given to candidates local to Boston, MA; Long Island, NY; or Golden, CO', 'Fully-remote (United States)', 'Fully-remote (United States) or in-office (DC, Austin, Chicago, New York)', 'Georgetown, Texas', 'Gilbert, AZ (On-site with hybrid model optional)', 'Gilbert, AZ (on-site with hybrid model optional)', 'Holmdel, NJ', 'Honolulu, Hawaii', 'Houston Office - 5718 WESTHEIMER RD 77057', 'Huntsville, AL', 'Hybrid', 'Hybrid (2 days on-site per week)', 'Hybrid (Austin, TX; Irving, TX; Fort Myers, FL)', 'Hybrid (Baltimore)', 'Hybrid (Dallas, TX and also offices in Austin, New York, Chicago, Portland, and Belfast)', 'Hybrid (Dallas, TX and offices in Austin, New York, Chicago, Portland, and Belfast)', 'Hybrid (Dallas, TX and other offices in Austin, New York, Chicago, Portland, and Belfast)', 'Hybrid (Dallas, TX and other offices)', 'Hybrid (Dallas, TX; Austin, New York, Chicago, Portland, Belfast)', 'Hybrid (Dallas, TX; Austin, TX; New York, NY; Chicago, IL; Portland, OR; Belfast, UK)', 'Hybrid (Dallas, TX; Austin; New York; Chicago; Portland; Belfast)', 'Hybrid (New York City, NY)', 'Hybrid (Passaic, NJ)', 'Hybrid - Chesterfield, Missouri (Work from home 4 days per week)', 'Hybrid - In office Wednesdays in Chesterfield, Missouri (Work from home 4 days per week)', 'Hybrid on-site in Chicago, IL', 'Hybrid to Riverwoods, IL', 'Hybrid work at Lakeland, FL', 'Hybrid working environment, based in the Detroit, MI area', 'Hybrid, North Dallas metroplex', 'Irving, TX', 'Issaquah, WA - Hybrid', 'Issaquah, WA - Hybrid (3 days onsite)', 'Issaquah, WA - Hybrid - 3 days onsite', 'Lakewood, CO (Hybrid)', 'Lansing, MI', 'Lincoln St, Boston, MA (hybrid 2-3 days/week in office)', 'Livermore', 'Los Angeles', 'Louisville, KY (Onsite)', 'Malvern, PA', 'Manassas, VA (Hybrid)', 'Mare Island, CA', 'McLean, VA (Hybrid)', 'Mclean, VA (Hybrid)', 'Menlo Park CA 94025', 'Menlo Park, CA 94025', 'Menomonee Falls (on site)', 'Menomonee Falls (on-site)', 'Merritt Island, FL', 'Miami, FL 33196', 'Milwaukee, WI', 'Milwaukee, WI 53202', 'Minneapolis, MN (Remote)', 'Minneapolis, MN 55402', 'Mix of in-office and remote', 'Montreal, San Francisco Bay Area, Portland, Atlanta', 'Morris Plains, NJ 07960', 'Multiple Locations in the U.S. (Hybrid)', 'Nashville, TN (Remote with local candidates preferred)', 'Nashville, TN (Remote)', 'New York City (Hybrid: 2 days in office, 3 days remote)', 'New York City - Hybrid', 'New York City or Greater Boston Area', 'New York, NY, USA; Cambridge, MA, USA', 'North Reading, MA (Hybrid)', 'Oakbrook, IL', 'Oklahoma City, OK', 'Old Greenwich, CT', 'Old Greenwich, CT (40% Remote)', 'Omaha, NE', 'On-site', 'On-site in Hillsboro, OR and also eligible for hybrid work, Remote Eligible', 'Onsite - Miami, FL', 'Onsite - Miami, FL - 1080 Caribbean Way', 'Orlando', 'Parsippany, NJ', 'Parsippany, NJ (Onsite 5 days a week)', 'Peoria, IL', 'Peoria, IL (Hybrid: Tuesday-Thursday onsite, Monday and Friday remote)', 'Phoenix or Salt Lake City (Onsite)', 'Pittsburgh, PA', 'Pittsburgh, PA (Hybrid model, 3 days a week)', 'Pittsburgh, PA (Hybrid, 3 days a week in office)', 'Pittsburgh, PA (Hybrid, 3 days a week)', 'Pontiac, MI', 'Princeton, NJ', 'Pullman, WA', 'REMOTE', 'REMOTE, team based in Mounds View, MN', 'Raleigh (Hybrid)', 'Remote', 'Remote (Across USA)', 'Remote (CST hours)', 'Remote (California, Florida)', 'Remote (EST hours)', 'Remote (East Coast)', 'Remote (Travel based on project needs to HQ)', 'Remote (United States, excluding California)', 'Remote (must work CST hours)', 'Remote (up to three days a week)', 'Remote (with quarterly in-person gatherings in Dallas, TX)', 'Remote East Coast', 'Remote US (NJ preferred)', 'Remote or Menlo Park or Union City, CA', 'Remote or Menlo Park/Union City, CA', 'Remote with some travel', 'Remote with some travel (up to 25%)', 'Remote within US', 'Remote within the US', 'Remote, California, Florida', 'Remote, USA', 'Remote/Hybrid', 'Remote; Los Angeles Metro preferred, West Coast desired', 'Remote; Los Angeles Metro preferred, West Coast desired but not required', 'Renton, WA or Denton, TX', 'Salem, NH', 'San Diego', 'San Diego, CA or PST Time Zone Only (Remote)', 'San Francisco', 'San Francisco (Hybrid - 3 days in-office)', 'San Francisco (Hybrid)', 'San Francisco Bay area', 'San Francisco, CA', 'San Francisco, Fully Remote', 'San Mateo, Bellevue, Berlin', 'Santa Ana, CA', 'Santa Clara, CA', 'Santa Fe Springs, CA', 'Seattle, WA', 'Seattle, WA, USA; Mountain View, CA, USA', 'Selah, WA', 'South Houston Area', 'St. Louis Park (Hybrid - 3 days in office, 2 days home)', 'St. Louis Park (Hybrid: 3 days in office, 2 days home)', 'St. Louis Park (Hybrid: 3 days in office, 2 days remote)', 'Sunnyvale, CA, USA; Raleigh, NC, USA; Durham, NC, USA', 'Sunnyvale, CA, USA; Seattle, WA, USA', 'Tampa Bay Area', 'Texas', 'Thorofare, NJ', 'Troy, Michigan (Onsite)', 'US-Louisiana-Slidell', 'Waltham, MA (Hybrid)', 'Waltham, MA HQ (Hybrid)', 'Washington DC area', 'Washington DC area (Hybrid)', 'Washington, D.C.', 'Watts area, Los Angeles', 'Westlake Village, CA', 'Westlake Village, CA (must live within 15 miles)', 'White Plains (hybrid)', 'Wilmington, DE', 'Wilmington, DE (Hybrid - 3 days onsite per week)', 'fully remote, however, priority is given to candidates local to Boston, MA; Long Island, NY; or Golden, CO', 'fully remote, priority to Boston, MA; Long Island, NY; or Golden, CO', 'hybrid, North Dallas metroplex', 'onsite']\n",
      "\n",
      "Unique Standardized Locations:\n",
      "['AR', 'CA', 'CO', 'CT', 'FL', 'GA', 'HI', 'IL', 'IN', 'KY', 'MA', 'MD', 'ME', 'MI', 'MN', 'MO', 'NE', 'NJ', 'NY', 'Not specified', 'OH', 'OK', 'OR', 'PA', 'TN', 'TX', 'UT', 'VA', 'WA', 'WI', 'WV']\n"
     ]
    }
   ],
   "source": [
    "df_jd_label_joined = standardize_location_column(\n",
    "    df_jd_label_joined,\n",
    "    location_col=\"job_location\",\n",
    "    location_lookup=location_dict,\n",
    ")\n",
    "\n",
    "print(\"Unique Original Locations:\")\n",
    "original_locations = df_jd_label_joined.select(\"job_location\") \\\n",
    "    .where(col(\"job_location\").isNotNull()) \\\n",
    "    .distinct() \\\n",
    "    .orderBy(\"job_location\") \\\n",
    "    .rdd.flatMap(lambda x: x) \\\n",
    "    .collect()\n",
    "print(original_locations)\n",
    "\n",
    "print(\"\\nUnique Standardized Locations:\")\n",
    "standardized_locations = df_jd_label_joined.select(\"job_location_cleaned\") \\\n",
    "    .where(col(\"job_location_cleaned\").isNotNull()) \\\n",
    "    .distinct() \\\n",
    "    .orderBy(\"job_location_cleaned\") \\\n",
    "    .rdd.flatMap(lambda x: x) \\\n",
    "    .collect()\n",
    "print(standardized_locations)"
   ]
  },
  {
   "cell_type": "code",
   "execution_count": 368,
   "id": "2df0fe71-a225-4aa7-b1a5-190bd9a63303",
   "metadata": {},
   "outputs": [
    {
     "name": "stderr",
     "output_type": "stream",
     "text": [
      "/tmp/ipykernel_14/3082653122.py:10: MatplotlibDeprecationWarning: The get_cmap function was deprecated in Matplotlib 3.7 and will be removed in 3.11. Use ``matplotlib.colormaps[name]`` or ``matplotlib.colormaps.get_cmap()`` or ``pyplot.get_cmap()`` instead.\n",
      "  cmap = cm.get_cmap('Set1', num_classes)  # Use Set1 colormap\n"
     ]
    },
    {
     "data": {
      "image/png": "[encoded data removed]",
      "text/plain": [
       "<Figure size 1400x700 with 1 Axes>"
      ]
     },
     "metadata": {},
     "output_type": "display_data"
    }
   ],
   "source": [
    "fit_counts = df_jd_label_joined.groupby(['job_location_standardized', 'fit_grouped']).size().unstack(fill_value=0)\n",
    "\n",
    "# Sort locations by total counts (optional)\n",
    "fit_counts['total'] = fit_counts.sum(axis=1)\n",
    "fit_counts = fit_counts.sort_values('total', ascending=False)\n",
    "\n",
    "fit_classes = fit_counts.columns.drop('total')\n",
    "num_classes = len(fit_classes)\n",
    "\n",
    "cmap = cm.get_cmap('Set1', num_classes)  # Use Set1 colormap\n",
    "colors = [cmap(i) for i in range(num_classes)]\n",
    "\n",
    "fit_counts[fit_classes].plot(\n",
    "    kind='bar',\n",
    "    stacked=True,\n",
    "    figsize=(14,7),\n",
    "    color=colors\n",
    ")\n",
    "\n",
    "plt.xlabel('Original Location')\n",
    "plt.ylabel('Count')\n",
    "plt.title('Fit Counts by Original Location')\n",
    "plt.legend(title='Fit Class')\n",
    "plt.xticks(rotation=45, ha='right')\n",
    "plt.tight_layout()\n",
    "plt.show()\n"
   ]
  },
  {
   "cell_type": "code",
   "execution_count": 367,
   "id": "bfe5602a-83f7-4fb0-a001-6bc82f102d45",
   "metadata": {},
   "outputs": [
    {
     "name": "stderr",
     "output_type": "stream",
     "text": [
      "/tmp/ipykernel_14/3943499789.py:15: MatplotlibDeprecationWarning: The get_cmap function was deprecated in Matplotlib 3.7 and will be removed in 3.11. Use ``matplotlib.colormaps[name]`` or ``matplotlib.colormaps.get_cmap()`` or ``pyplot.get_cmap()`` instead.\n",
      "  cmap = cm.get_cmap('Set1', num_classes)\n"
     ]
    },
    {
     "data": {
      "image/png": "[encoded data removed]",
      "text/plain": [
       "<Figure size 1400x700 with 1 Axes>"
      ]
     },
     "metadata": {},
     "output_type": "display_data"
    }
   ],
   "source": [
    "import matplotlib.pyplot as plt\n",
    "import matplotlib.cm as cm\n",
    "\n",
    "fit_counts = df_jd_label_joined.groupby(['job_location_standardized', 'fit_grouped']).size().unstack(fill_value=0)\n",
    "\n",
    "fit_counts['total'] = fit_counts.sum(axis=1)\n",
    "fit_counts = fit_counts.sort_values('total', ascending=False)\n",
    "\n",
    "fit_classes = fit_counts.columns.drop('total')\n",
    "\n",
    "# Normalize each row to sum to 1 (ratio)\n",
    "fit_ratios = fit_counts[fit_classes].div(fit_counts['total'], axis=0)\n",
    "\n",
    "num_classes = len(fit_classes)\n",
    "cmap = cm.get_cmap('Set1', num_classes)\n",
    "colors = [cmap(i) for i in range(num_classes)]\n",
    "\n",
    "fit_ratios.plot(\n",
    "    kind='bar',\n",
    "    stacked=True,\n",
    "    figsize=(14,7),\n",
    "    color=colors\n",
    ")\n",
    "\n",
    "plt.xlabel('Standardized Location')\n",
    "plt.ylabel('Proportion')\n",
    "plt.title('Fit Class Distribution by Location (Ratio)')\n",
    "plt.legend(title='Fit Class')\n",
    "plt.xticks(rotation=45, ha='right')\n",
    "plt.tight_layout()\n",
    "plt.show()"
   ]
  },
  {
   "cell_type": "markdown",
   "id": "9644f644-9c1d-4a08-b866-ef7e7195c21d",
   "metadata": {},
   "source": [
    "#### required work authorization "
   ]
  },
  {
   "cell_type": "code",
   "execution_count": 349,
   "id": "953f4857-1925-48bd-bef1-2f1751274916",
   "metadata": {
    "scrolled": true
   },
   "outputs": [
    {
     "name": "stdout",
     "output_type": "stream",
     "text": [
      "Work Authorization Counts:\n",
      "required_work_authorization\n",
      "None                                                                                                                               5100\n",
      "W2                                                                                                                                   99\n",
      "Local to Michigan                                                                                                                    85\n",
      "VISA INDEPENDENT ONLY                                                                                                                75\n",
      "Authorized to work in the United States (excluding California)                                                                       66\n",
      "                                                                                                                                   ... \n",
      "United States                                                                                                                         1\n",
      "W2 (No Corp to Corp)                                                                                                                  1\n",
      "No sponsorship available                                                                                                              1\n",
      "Candidates must be directly contracted by ASK Consulting on their payroll and cannot be subcontracted. No sponsorship provided.       1\n",
      "U.S. Citizens and Permanent Residents                                                                                                 1\n",
      "Name: count, Length: 64, dtype: int64\n"
     ]
    }
   ],
   "source": [
    "work_auth_counts = df_jd_label_joined['required_work_authorization'].value_counts(dropna=False)\n",
    "print(\"Work Authorization Counts:\")\n",
    "print(work_auth_counts)\n",
    "\n"
   ]
  },
  {
   "cell_type": "code",
   "execution_count": 347,
   "id": "f104b3e3-6024-4e42-aab4-aa4f8c3296a9",
   "metadata": {},
   "outputs": [],
   "source": [
    "def standardize_work_authorization(x):\n",
    "    if pd.isna(x) or str(x).strip().lower() == 'none':\n",
    "        return 'not needed'\n",
    "\n",
    "    x_str = str(x).lower()\n",
    "\n",
    "    # Common phrases meaning no sponsorship needed\n",
    "    no_sponsor_patterns = [\n",
    "        r'do\\s*not\\s*require',\n",
    "        r'none',\n",
    "    ]\n",
    "\n",
    "    for pattern in no_sponsor_patterns:\n",
    "        if re.search(pattern, x_str):\n",
    "            return 'not needed'\n",
    "\n",
    "    # Otherwise, treat as needing sponsorship or work auth\n",
    "    return 'needed'\n"
   ]
  },
  {
   "cell_type": "code",
   "execution_count": 350,
   "id": "a174d77c-4fe3-40de-bd10-0e9248fc4f30",
   "metadata": {},
   "outputs": [
    {
     "name": "stdout",
     "output_type": "stream",
     "text": [
      "Standardized Work Authorization Counts:\n",
      "required_work_authorization_cleaned\n",
      "not needed    5108\n",
      "needed        1133\n",
      "Name: count, dtype: int64\n"
     ]
    }
   ],
   "source": [
    "# Apply to your DataFrame\n",
    "df_jd_label_joined['required_work_authorization_cleaned'] = df_jd_label_joined['required_work_authorization'].apply(standardize_work_authorization)\n",
    "\n",
    "# Check result\n",
    "work_auth_counts_cleaned = df_jd_label_joined['required_work_authorization_cleaned'].value_counts()\n",
    "print(\"Standardized Work Authorization Counts:\")\n",
    "print(work_auth_counts_cleaned)\n"
   ]
  },
  {
   "cell_type": "code",
   "execution_count": 44,
   "id": "941b7538-3644-4e35-a503-286dacc0b827",
   "metadata": {},
   "outputs": [
    {
     "name": "stdout",
     "output_type": "stream",
     "text": [
      "Work Authorization Counts:\n",
      "+------------------------------------------------------------------------------------------------------+-----+\n",
      "|required_work_authorization                                                                           |count|\n",
      "+------------------------------------------------------------------------------------------------------+-----+\n",
      "|null                                                                                                  |5100 |\n",
      "|W2                                                                                                    |99   |\n",
      "|Local to Michigan                                                                                     |85   |\n",
      "|VISA INDEPENDENT ONLY                                                                                 |75   |\n",
      "|Authorized to work in the United States (excluding California)                                        |66   |\n",
      "|US Citizenship or Authorization to work in US                                                         |65   |\n",
      "|Ability to obtain US Government security clearance                                                    |62   |\n",
      "|Legally authorized to work in the United States                                                       |57   |\n",
      "|Candidates without any Visa Constraints                                                               |54   |\n",
      "|Local to Dallas, TX                                                                                   |50   |\n",
      "|US Citizens able to obtain a security clearance                                                       |47   |\n",
      "|US work authorization                                                                                 |42   |\n",
      "|US Citizen or Green Card                                                                              |35   |\n",
      "|United States Citizenship                                                                             |33   |\n",
      "|Local candidates only (relocation is not provided)                                                    |28   |\n",
      "|USC or GCH                                                                                            |26   |\n",
      "|Must be able to work in the US without sponsorship                                                    |25   |\n",
      "|Must be eligible for hire without sponsorship                                                         |23   |\n",
      "|US Citizenship or Green Card                                                                          |21   |\n",
      "|W&T Offshore does not offer sponsorship of employment-based nonimmigrant visa petitions for this role.|19   |\n",
      "+------------------------------------------------------------------------------------------------------+-----+\n",
      "only showing top 20 rows\n",
      "\n"
     ]
    }
   ],
   "source": [
    "from pyspark.sql.functions import coalesce, lit\n",
    "\n",
    "df_filled = df_jd_label_joined.withColumn(\n",
    "    \"required_work_authorization\",\n",
    "    coalesce(col(\"required_work_authorization\"), lit(\"null\"))\n",
    ")\n",
    "\n",
    "work_auth_counts = df_filled.groupBy(\"required_work_authorization\").count()\n",
    "\n",
    "print(\"Work Authorization Counts:\")\n",
    "work_auth_counts.orderBy(\"count\", ascending=False).show(truncate=False)\n",
    "\n",
    "\n"
   ]
  },
  {
   "cell_type": "code",
   "execution_count": 46,
   "id": "f3a45b23-17a8-4c04-8b0a-4be18edbbbf4",
   "metadata": {},
   "outputs": [
    {
     "name": "stdout",
     "output_type": "stream",
     "text": [
      "Standardized Work Authorization Counts:\n"
     ]
    },
    {
     "name": "stderr",
     "output_type": "stream",
     "text": [
      "[Stage 183:>                                                        (0 + 1) / 1]"
     ]
    },
    {
     "name": "stdout",
     "output_type": "stream",
     "text": [
      "+------------------------------------------------------------------------------------------------------+-----+\n",
      "|required_work_authorization                                                                           |count|\n",
      "+------------------------------------------------------------------------------------------------------+-----+\n",
      "|NULL                                                                                                  |5100 |\n",
      "|W2                                                                                                    |99   |\n",
      "|Local to Michigan                                                                                     |85   |\n",
      "|VISA INDEPENDENT ONLY                                                                                 |75   |\n",
      "|Authorized to work in the United States (excluding California)                                        |66   |\n",
      "|US Citizenship or Authorization to work in US                                                         |65   |\n",
      "|Ability to obtain US Government security clearance                                                    |62   |\n",
      "|Legally authorized to work in the United States                                                       |57   |\n",
      "|Candidates without any Visa Constraints                                                               |54   |\n",
      "|Local to Dallas, TX                                                                                   |50   |\n",
      "|US Citizens able to obtain a security clearance                                                       |47   |\n",
      "|US work authorization                                                                                 |42   |\n",
      "|US Citizen or Green Card                                                                              |35   |\n",
      "|United States Citizenship                                                                             |33   |\n",
      "|Local candidates only (relocation is not provided)                                                    |28   |\n",
      "|USC or GCH                                                                                            |26   |\n",
      "|Must be able to work in the US without sponsorship                                                    |25   |\n",
      "|Must be eligible for hire without sponsorship                                                         |23   |\n",
      "|US Citizenship or Green Card                                                                          |21   |\n",
      "|W&T Offshore does not offer sponsorship of employment-based nonimmigrant visa petitions for this role.|19   |\n",
      "+------------------------------------------------------------------------------------------------------+-----+\n",
      "only showing top 20 rows\n",
      "\n"
     ]
    },
    {
     "name": "stderr",
     "output_type": "stream",
     "text": [
      "                                                                                "
     ]
    }
   ],
   "source": [
    "from utils.data_cleaning_utils import clean_work_authorization_column\n",
    "\n",
    "df_jd_label_joined = clean_work_authorization_column(df_jd_label_joined, \"required_work_authorization\")\n",
    "\n",
    "# Count and show the standardized work authorization values\n",
    "work_auth_counts_cleaned = df_jd_label_joined.groupBy(\"required_work_authorization\").count()\n",
    "\n",
    "print(\"Standardized Work Authorization Counts:\")\n",
    "work_auth_counts_cleaned.orderBy(\"count\", ascending=False).show(truncate=False)"
   ]
  },
  {
   "cell_type": "code",
   "execution_count": 364,
   "id": "1ab854a7-74ac-444e-9083-ff3d4c28feee",
   "metadata": {},
   "outputs": [
    {
     "data": {
      "image/png": "[encoded data removed]",
      "text/plain": [
       "<Figure size 800x600 with 1 Axes>"
      ]
     },
     "metadata": {},
     "output_type": "display_data"
    }
   ],
   "source": [
    "import seaborn as sns\n",
    "import matplotlib.pyplot as plt\n",
    "\n",
    "plt.figure(figsize=(8,6))\n",
    "sns.countplot(\n",
    "    data=df_jd_label_joined,\n",
    "    x='required_work_authorization_cleaned',\n",
    "    hue='fit_grouped',   # shows counts split by 'fit'\n",
    "    palette='Set2'\n",
    ")\n",
    "\n",
    "plt.title('Fit Distribution by Work Authorization')\n",
    "plt.xlabel('Work Authorization')\n",
    "plt.ylabel('Count')\n",
    "plt.xticks(rotation=0)\n",
    "plt.grid(axis='y', linestyle='--', alpha=0.7)\n",
    "plt.legend(title='Fit', bbox_to_anchor=(1.05, 1), loc='upper left')\n",
    "plt.tight_layout()\n",
    "plt.show()"
   ]
  },
  {
   "cell_type": "code",
   "execution_count": 366,
   "id": "249beed4-0a73-4ad6-9dd9-2c72e754b652",
   "metadata": {},
   "outputs": [
    {
     "data": {
      "image/png": "[encoded data removed]",
      "text/plain": [
       "<Figure size 800x600 with 1 Axes>"
      ]
     },
     "metadata": {},
     "output_type": "display_data"
    }
   ],
   "source": [
    "prop_df = (\n",
    "    df_jd_label_joined\n",
    "    .groupby(['required_work_authorization_cleaned', 'fit_grouped'])\n",
    "    .size()\n",
    "    .reset_index(name='count')\n",
    ")\n",
    "\n",
    "# Calculate total counts per work authorization group\n",
    "total_counts = prop_df.groupby('required_work_authorization_cleaned')['count'].transform('sum')\n",
    "\n",
    "# Calculate ratio within each group\n",
    "prop_df['ratio'] = prop_df['count'] / total_counts\n",
    "\n",
    "# Plot\n",
    "plt.figure(figsize=(8,6))\n",
    "sns.barplot(\n",
    "    data=prop_df,\n",
    "    x='required_work_authorization_cleaned',\n",
    "    y='ratio',\n",
    "    hue='fit_grouped',\n",
    "    palette='Set2'\n",
    ")\n",
    "\n",
    "plt.title('Fit Distribution Ratio by Work Authorization')\n",
    "plt.xlabel('Work Authorization')\n",
    "plt.ylabel('Ratio')\n",
    "plt.xticks(rotation=0)\n",
    "plt.grid(axis='y', linestyle='--', alpha=0.7)\n",
    "plt.legend(title='Fit', bbox_to_anchor=(1.05, 1), loc='upper left')\n",
    "plt.tight_layout()\n",
    "plt.show()\n"
   ]
  },
  {
   "cell_type": "markdown",
   "id": "5dc17993-6186-4930-8789-c0d78ce4a386",
   "metadata": {},
   "source": [
    "## Skill Keywords"
   ]
  },
  {
   "cell_type": "code",
   "execution_count": 387,
   "id": "829a118e-9513-4b0e-a6fb-83942fac55c1",
   "metadata": {},
   "outputs": [
    {
     "name": "stdout",
     "output_type": "stream",
     "text": [
      "  keyword_id                keyword  \\\n",
      "0    2.A.1.a  Reading Comprehension   \n",
      "1    2.A.1.a  Reading Comprehension   \n",
      "2    2.A.1.a  Reading Comprehension   \n",
      "3    2.A.1.a  Reading Comprehension   \n",
      "4    2.A.1.a  Reading Comprehension   \n",
      "\n",
      "                                            examples  \n",
      "0                                Getting Information  \n",
      "1      Monitor Processes, Materials, or Surroundings  \n",
      "2           Identifying Objects, Actions, and Events  \n",
      "3  Judging the Qualities of Things, Services, or ...  \n",
      "4                             Processing Information  \n"
     ]
    }
   ],
   "source": [
    "# Join tables based on element ID for skills\n",
    "# Load the tables\n",
    "skills_df = pd.read_excel(r'datamart/bronze/skills/Skills.xlsx')\n",
    "work_activities_df = pd.read_excel(r'datamart/bronze/skills/Skills to Work Activities.xlsx')\n",
    "\n",
    "# Standardize the join column name to 'element_id'\n",
    "skills_df = skills_df.rename(columns={\"Element ID\": \"element_id\"})\n",
    "work_activities_df = work_activities_df.rename(columns={\"Skills Element ID\": \"element_id\"})\n",
    "\n",
    "# Perform the inner join\n",
    "skills_activity_df = skills_df.merge(work_activities_df, on=\"element_id\", how=\"inner\") \\\n",
    "                     .merge(work_context_df, on=\"element_id\", how=\"inner\")\n",
    "\n",
    "# Select and rename columns\n",
    "skills_activity_df = skills_activity_df[[\"element_id\", \"Element Name\", \"Work Activities Element Name\"]].rename(\n",
    "    columns={\n",
    "        \"element_id\": \"keyword_id\",\n",
    "        \"Element Name\": \"keyword\",\n",
    "        \"Work Activities Element Name\": \"examples\"\n",
    "    }\n",
    ")\n",
    "\n",
    "print(skills_activity_df.head())\n",
    "\n"
   ]
  },
  {
   "cell_type": "code",
   "execution_count": 388,
   "id": "92882a30-ba1d-4ff1-83c0-f491d898d3dd",
   "metadata": {},
   "outputs": [
    {
     "name": "stdout",
     "output_type": "stream",
     "text": [
      "  keyword_id                keyword         examples\n",
      "0    2.A.1.a  Reading Comprehension  Electronic Mail\n",
      "1    2.A.1.a  Reading Comprehension  Electronic Mail\n",
      "2    2.A.1.a  Reading Comprehension  Electronic Mail\n",
      "3    2.A.1.a  Reading Comprehension  Electronic Mail\n",
      "4    2.A.1.a  Reading Comprehension  Electronic Mail\n"
     ]
    }
   ],
   "source": [
    "# Load the tables\n",
    "skills_df = pd.read_excel(r'datamart/bronze/skills/Skills.xlsx')\n",
    "work_context_df = pd.read_excel(r'datamart/bronze/skills/Skills to Work Context.xlsx')\n",
    "\n",
    "# Standardize the join column name to 'element_id'\n",
    "skills_df = skills_df.rename(columns={\"Element ID\": \"element_id\"})\n",
    "work_context_df = work_context_df.rename(columns={\"Skills Element ID\": \"element_id\"})\n",
    "\n",
    "# Perform the inner join\n",
    "skills_context_df = skills_df.merge(work_activities_df, on=\"element_id\", how=\"inner\") \\\n",
    "                     .merge(work_context_df, on=\"element_id\", how=\"inner\")\n",
    "\n",
    "# Select and rename columns\n",
    "skills_context_df = skills_context_df[[\"element_id\", \"Element Name\", \"Work Context Element Name\"]].rename(\n",
    "    columns={\n",
    "        \"element_id\": \"keyword_id\",\n",
    "        \"Element Name\": \"keyword\",\n",
    "        \"Work Context Element Name\": \"examples\"\n",
    "    }\n",
    ")\n",
    "\n",
    "print(skills_context_df.head())\n",
    "\n"
   ]
  },
  {
   "cell_type": "code",
   "execution_count": 389,
   "id": "9d24d855-389d-473b-b6cc-9cb8b55df131",
   "metadata": {},
   "outputs": [
    {
     "name": "stdout",
     "output_type": "stream",
     "text": [
      "  keyword_id                keyword  \\\n",
      "0    2.a.1.a  reading comprehension   \n",
      "1    2.a.1.a  reading comprehension   \n",
      "2    2.a.1.a  reading comprehension   \n",
      "3    2.a.1.a  reading comprehension   \n",
      "4    2.a.1.a  reading comprehension   \n",
      "\n",
      "                                            examples  \n",
      "0                                getting information  \n",
      "1      monitor processes, materials, or surroundings  \n",
      "2           identifying objects, actions, and events  \n",
      "3  judging the qualities of things, services, or ...  \n",
      "4                             processing information  \n",
      "\n",
      "skills_activity_df length: 2178162\n",
      "skills_context_df length: 2178162\n",
      "combined_df length: 4356324\n"
     ]
    }
   ],
   "source": [
    "# Append the two DataFrames\n",
    "combined_df = pd.concat([skills_activity_df, skills_context_df], ignore_index=True)\n",
    "\n",
    "# Convert all string columns to lowercase\n",
    "for col in combined_df.select_dtypes(include='object').columns:\n",
    "    combined_df[col] = combined_df[col].str.lower()\n",
    "\n",
    "print(combined_df.head())\n",
    "\n",
    "print(\"\\nskills_activity_df length:\", len(skills_activity_df))\n",
    "print(\"skills_context_df length:\", len(skills_context_df))\n",
    "print(\"combined_df length:\", len(combined_df))"
   ]
  },
  {
   "cell_type": "code",
   "execution_count": 390,
   "id": "6c967987-20c1-43ff-907f-d0aa408a8ec6",
   "metadata": {},
   "outputs": [
    {
     "name": "stdout",
     "output_type": "stream",
     "text": [
      "   keyword_id                                        keyword  \\\n",
      "0    43232202                   document management software   \n",
      "1    43232306    data base user interface and query software   \n",
      "2    43232201                      content workflow software   \n",
      "3    43232303  customer relationship management crm software   \n",
      "4    43231601                            accounting software   \n",
      "\n",
      "                                example  \n",
      "0           adobe systems adobe acrobat  \n",
      "1                       adsense tracker  \n",
      "2                        atlassian jira  \n",
      "3           blackbaud the raiser's edge  \n",
      "4  computerease construction accounting  \n",
      "tech_skills_df length: 31078\n"
     ]
    }
   ],
   "source": [
    "tech_skills_path = r'datamart/bronze/skills/Technology Skills.xlsx'\n",
    "tech_skills_df = pd.read_excel(tech_skills_path)\n",
    "\n",
    "# Standardize column names if needed\n",
    "tech_skills_df = tech_skills_df.rename(columns={\n",
    "    \"Commodity Code\": \"keyword_id\",\n",
    "    \"Commodity Title\": \"keyword\",\n",
    "    \"Example\": \"example\"\n",
    "})\n",
    "\n",
    "# Keep only the required columns\n",
    "tech_skills_df = tech_skills_df[[\"keyword_id\", \"keyword\", \"example\"]]\n",
    "\n",
    "# Lowercase all string columns\n",
    "for col in tech_skills_df.select_dtypes(include='object').columns:\n",
    "    tech_skills_df[col] = tech_skills_df[col].str.lower()\n",
    "\n",
    "print(tech_skills_df.head())\n",
    "print(\"tech_skills_df length:\", len(tech_skills_df))"
   ]
  },
  {
   "cell_type": "code",
   "execution_count": 404,
   "id": "e4328eed-c49d-452d-a3a1-4481bcef45ee",
   "metadata": {},
   "outputs": [
    {
     "name": "stdout",
     "output_type": "stream",
     "text": [
      "Final soft skill folder ID: 11yd5W_ng5rzlOuDljRuBXbTe5OCFMEed\n",
      "Final hard skill folder ID: 1JhkeroB6NlqmrpY2Q6kNV2dRzkRLbiab\n"
     ]
    }
   ],
   "source": [
    "SCOPES = ['https://www.googleapis.com/auth/drive']\n",
    "\n",
    "creds = service_account.Credentials.from_service_account_file(\n",
    "    'service_account.json',\n",
    "    scopes=SCOPES\n",
    ")\n",
    "\n",
    "service = build('drive', 'v3', credentials=creds)\n",
    "\n",
    "def get_or_create_folder(service, folder_name, parent_id):\n",
    "    query = f\"mimeType='application/vnd.google-apps.folder' and name='{folder_name}' and trashed = false\"\n",
    "    if parent_id:\n",
    "        query += f\" and '{parent_id}' in parents\"\n",
    "    else:\n",
    "        query += \" and 'root' in parents\"\n",
    "\n",
    "    response = service.files().list(q=query, fields=\"files(id, name)\").execute()\n",
    "    files = response.get('files', [])\n",
    "    \n",
    "    if files:\n",
    "        return files[0]['id']\n",
    "    else:\n",
    "        folder_metadata = {\n",
    "            'name': folder_name,\n",
    "            'mimeType': 'application/vnd.google-apps.folder',\n",
    "        }\n",
    "        if parent_id:\n",
    "            folder_metadata['parents'] = [parent_id]\n",
    "        folder = service.files().create(body=folder_metadata, fields='id').execute()\n",
    "        return folder.get('id')\n",
    "\n",
    "def get_folder_id_by_path(service, path_list, root_parent_id=None):\n",
    "    parent_id = root_parent_id\n",
    "    for folder_name in path_list:\n",
    "        parent_id = get_or_create_folder(service, folder_name, parent_id)\n",
    "    return parent_id\n",
    "\n",
    "\n",
    "parent_root = '1_eMgnRaFtt-ZSZD3zfwai3qlpYJ-M5C6' \n",
    "\n",
    "soft_skill_path = ['datamart', 'silver', 'softskill']\n",
    "final_soft_skill_id = get_folder_id_by_path(service, soft_skill_path, parent_root)\n",
    "print(\"Final soft skill folder ID:\", final_soft_skill_id)\n",
    "\n",
    "hard_skill_path = ['datamart', 'silver',  'hardskill']\n",
    "final_hard_skill_id = get_folder_id_by_path(service, hard_skill_path, parent_root)\n",
    "print(\"Final hard skill folder ID:\", final_hard_skill_id)\n"
   ]
  },
  {
   "cell_type": "code",
   "execution_count": null,
   "id": "d44fd390-6aab-4709-9bb4-553bd0bf1b3c",
   "metadata": {},
   "outputs": [],
   "source": [
    "# For hard skills (tech_skills_df)\n",
    "tech_skills_local_path = 'Technology_Skills.parquet'\n",
    "tech_skills_df.to_parquet(tech_skills_local_path, index=False)\n",
    "\n",
    "# For soft skills (combined_df)\n",
    "soft_skills_local_path = 'Soft_Skills_Combined.parquet'\n",
    "combined_df.to_parquet(soft_skills_local_path, index=False)\n"
   ]
  },
  {
   "cell_type": "code",
   "execution_count": null,
   "id": "3cc29c1d-020a-42c5-8f96-cbab9ec3707e",
   "metadata": {},
   "outputs": [],
   "source": [
    "def upload_file_resumable(service, local_file_path, drive_folder_id, drive_file_name):\n",
    "    file_metadata = {\n",
    "        'name': drive_file_name,\n",
    "        'parents': [drive_folder_id]\n",
    "    }\n",
    "    media = MediaFileUpload(local_file_path, mimetype='application/vnd.openxmlformats-officedocument.spreadsheetml.sheet', resumable=True)\n",
    "\n",
    "    request = service.files().create(body=file_metadata, media_body=media, fields='id, name')\n",
    "    \n",
    "    response = None\n",
    "    while response is None:\n",
    "        status, response = request.next_chunk()\n",
    "        if status:\n",
    "            print(f\"Upload progress: {int(status.progress() * 100)}%\")\n",
    "    \n",
    "    print(f\"Uploaded file '{response.get('name')}' with ID: {response.get('id')}\")\n",
    "    return response.get('id')\n"
   ]
  },
  {
   "cell_type": "code",
   "execution_count": null,
   "id": "6ec4b31d-3b61-41d9-a54e-992e0cf24f10",
   "metadata": {},
   "outputs": [],
   "source": [
    "upload_file(service, 'Technology_Skills.parquet', final_hard_skill_id)\n",
    "upload_file(service, 'Soft_Skills_Combined.parquet', final_soft_skill_id)\n"
   ]
  },
  {
   "cell_type": "code",
   "execution_count": null,
   "id": "b3381d6c-c62a-410a-b6d4-1bc2faf7c616",
   "metadata": {},
   "outputs": [],
   "source": [
    "def download_parquet_from_drive(service, file_id):\n",
    "    request = service.files().get_media(fileId=file_id)\n",
    "    fh = BytesIO()\n",
    "    downloader = MediaIoBaseDownload(fh, request)\n",
    "    \n",
    "    done = False\n",
    "    while done is False:\n",
    "        status, done = downloader.next_chunk()\n",
    "        print(f\"Download progress: {int(status.progress() * 100)}%\")\n",
    "\n",
    "    fh.seek(0) \n",
    "    return fh\n",
    "\n",
    "\n",
    "parquet_file_id = '1m8V7XyMbhOssQpJ5jk24FXtTQPoWE-a2'  \n",
    "\n",
    "parquet_bytes = download_parquet_from_drive(service, parquet_file_id)\n",
    "\n",
    "# Load Parquet file into Pandas DataFrame\n",
    "df = pd.read_parquet(parquet_bytes, engine='pyarrow')\n",
    "\n",
    "print(df.head())\n"
   ]
  },
  {
   "cell_type": "markdown",
   "id": "2e7bcd4e-e995-4d78-8e49-ac72b77cb76c",
   "metadata": {},
   "source": [
    "## Label transformation "
   ]
  },
  {
   "cell_type": "code",
   "execution_count": 357,
   "id": "f7f76c4d-ce16-42bf-bdaf-f227a824f3db",
   "metadata": {},
   "outputs": [
    {
     "data": {
      "text/html": [
       "<div>\n",
       "<style scoped>\n",
       "    .dataframe tbody tr th:only-of-type {\n",
       "        vertical-align: middle;\n",
       "    }\n",
       "\n",
       "    .dataframe tbody tr th {\n",
       "        vertical-align: top;\n",
       "    }\n",
       "\n",
       "    .dataframe thead th {\n",
       "        text-align: right;\n",
       "    }\n",
       "</style>\n",
       "<table border=\"1\" class=\"dataframe\">\n",
       "  <thead>\n",
       "    <tr style=\"text-align: right;\">\n",
       "      <th></th>\n",
       "      <th>id</th>\n",
       "      <th>resume_id</th>\n",
       "      <th>job_id</th>\n",
       "      <th>fit</th>\n",
       "      <th>snapshot_date</th>\n",
       "    </tr>\n",
       "  </thead>\n",
       "  <tbody>\n",
       "    <tr>\n",
       "      <th>0</th>\n",
       "      <td>LABEL_Lrgk1qIc</td>\n",
       "      <td>RES_Lrgk1qIc</td>\n",
       "      <td>JD_Lrgk1qIc</td>\n",
       "      <td>No Fit</td>\n",
       "      <td>2021-10-30</td>\n",
       "    </tr>\n",
       "    <tr>\n",
       "      <th>1</th>\n",
       "      <td>LABEL_kUoPlNoI</td>\n",
       "      <td>RES_kUoPlNoI</td>\n",
       "      <td>JD_kUoPlNoI</td>\n",
       "      <td>No Fit</td>\n",
       "      <td>2021-09-17</td>\n",
       "    </tr>\n",
       "    <tr>\n",
       "      <th>2</th>\n",
       "      <td>LABEL_s93wTCLp</td>\n",
       "      <td>RES_s93wTCLp</td>\n",
       "      <td>JD_s93wTCLp</td>\n",
       "      <td>No Fit</td>\n",
       "      <td>2021-07-15</td>\n",
       "    </tr>\n",
       "    <tr>\n",
       "      <th>3</th>\n",
       "      <td>LABEL_W35SEzlG</td>\n",
       "      <td>RES_W35SEzlG</td>\n",
       "      <td>JD_W35SEzlG</td>\n",
       "      <td>No Fit</td>\n",
       "      <td>2021-10-15</td>\n",
       "    </tr>\n",
       "    <tr>\n",
       "      <th>4</th>\n",
       "      <td>LABEL_kQiZZseA</td>\n",
       "      <td>RES_kQiZZseA</td>\n",
       "      <td>JD_kQiZZseA</td>\n",
       "      <td>No Fit</td>\n",
       "      <td>2021-06-16</td>\n",
       "    </tr>\n",
       "  </tbody>\n",
       "</table>\n",
       "</div>"
      ],
      "text/plain": [
       "               id     resume_id       job_id     fit snapshot_date\n",
       "0  LABEL_Lrgk1qIc  RES_Lrgk1qIc  JD_Lrgk1qIc  No Fit    2021-10-30\n",
       "1  LABEL_kUoPlNoI  RES_kUoPlNoI  JD_kUoPlNoI  No Fit    2021-09-17\n",
       "2  LABEL_s93wTCLp  RES_s93wTCLp  JD_s93wTCLp  No Fit    2021-07-15\n",
       "3  LABEL_W35SEzlG  RES_W35SEzlG  JD_W35SEzlG  No Fit    2021-10-15\n",
       "4  LABEL_kQiZZseA  RES_kQiZZseA  JD_kQiZZseA  No Fit    2021-06-16"
      ]
     },
     "execution_count": 357,
     "metadata": {},
     "output_type": "execute_result"
    }
   ],
   "source": [
    "df_silver_label = read_bronze_table_as_pandas(\"jobmirror_db\", \"bronze_labels\")\n",
    "\n",
    "df_silver_label.head(5)"
   ]
  },
  {
   "cell_type": "code",
   "execution_count": 361,
   "id": "59ab5bf8-4975-48f7-b9ba-128fa08bcde1",
   "metadata": {},
   "outputs": [],
   "source": [
    "def regroup_label(fit_value):\n",
    "    if fit_value in ['Good Fit', 'Potential Fit']:\n",
    "        return 'Fit'\n",
    "    else:\n",
    "        return fit_value\n",
    "\n",
    "# Apply to your DataFrame column\n",
    "df_jd_label_joined['fit_grouped'] = df_jd_label_joined['fit'].apply(regroup_label)\n"
   ]
  },
  {
   "cell_type": "code",
   "execution_count": 371,
   "id": "da2e7848-c8a1-495c-b40b-5db35bac9c06",
   "metadata": {},
   "outputs": [],
   "source": [
    "df_jd_label_joined['fit_grouped'] = df_jd_label_joined['fit'].apply(regroup_label)\n",
    "df_resume_label_joined['fit_grouped'] = df_resume_label_joined['fit'].apply(regroup_label)\n"
   ]
  },
  {
   "cell_type": "code",
   "execution_count": 362,
   "id": "2ab51142-e70a-4035-a73b-5195a6434b59",
   "metadata": {},
   "outputs": [
    {
     "data": {
      "text/html": [
       "<div>\n",
       "<style scoped>\n",
       "    .dataframe tbody tr th:only-of-type {\n",
       "        vertical-align: middle;\n",
       "    }\n",
       "\n",
       "    .dataframe tbody tr th {\n",
       "        vertical-align: top;\n",
       "    }\n",
       "\n",
       "    .dataframe thead th {\n",
       "        text-align: right;\n",
       "    }\n",
       "</style>\n",
       "<table border=\"1\" class=\"dataframe\">\n",
       "  <thead>\n",
       "    <tr style=\"text-align: right;\">\n",
       "      <th></th>\n",
       "      <th>id</th>\n",
       "      <th>resume_id</th>\n",
       "      <th>job_id</th>\n",
       "      <th>fit</th>\n",
       "      <th>snapshot_date</th>\n",
       "      <th>fit_grouped</th>\n",
       "    </tr>\n",
       "  </thead>\n",
       "  <tbody>\n",
       "    <tr>\n",
       "      <th>0</th>\n",
       "      <td>LABEL_Lrgk1qIc</td>\n",
       "      <td>RES_Lrgk1qIc</td>\n",
       "      <td>JD_Lrgk1qIc</td>\n",
       "      <td>No Fit</td>\n",
       "      <td>2021-10-30</td>\n",
       "      <td>No Fit</td>\n",
       "    </tr>\n",
       "    <tr>\n",
       "      <th>1</th>\n",
       "      <td>LABEL_kUoPlNoI</td>\n",
       "      <td>RES_kUoPlNoI</td>\n",
       "      <td>JD_kUoPlNoI</td>\n",
       "      <td>No Fit</td>\n",
       "      <td>2021-09-17</td>\n",
       "      <td>No Fit</td>\n",
       "    </tr>\n",
       "    <tr>\n",
       "      <th>2</th>\n",
       "      <td>LABEL_s93wTCLp</td>\n",
       "      <td>RES_s93wTCLp</td>\n",
       "      <td>JD_s93wTCLp</td>\n",
       "      <td>No Fit</td>\n",
       "      <td>2021-07-15</td>\n",
       "      <td>No Fit</td>\n",
       "    </tr>\n",
       "    <tr>\n",
       "      <th>3</th>\n",
       "      <td>LABEL_W35SEzlG</td>\n",
       "      <td>RES_W35SEzlG</td>\n",
       "      <td>JD_W35SEzlG</td>\n",
       "      <td>No Fit</td>\n",
       "      <td>2021-10-15</td>\n",
       "      <td>No Fit</td>\n",
       "    </tr>\n",
       "    <tr>\n",
       "      <th>4</th>\n",
       "      <td>LABEL_kQiZZseA</td>\n",
       "      <td>RES_kQiZZseA</td>\n",
       "      <td>JD_kQiZZseA</td>\n",
       "      <td>No Fit</td>\n",
       "      <td>2021-06-16</td>\n",
       "      <td>No Fit</td>\n",
       "    </tr>\n",
       "  </tbody>\n",
       "</table>\n",
       "</div>"
      ],
      "text/plain": [
       "               id     resume_id       job_id     fit snapshot_date fit_grouped\n",
       "0  LABEL_Lrgk1qIc  RES_Lrgk1qIc  JD_Lrgk1qIc  No Fit    2021-10-30      No Fit\n",
       "1  LABEL_kUoPlNoI  RES_kUoPlNoI  JD_kUoPlNoI  No Fit    2021-09-17      No Fit\n",
       "2  LABEL_s93wTCLp  RES_s93wTCLp  JD_s93wTCLp  No Fit    2021-07-15      No Fit\n",
       "3  LABEL_W35SEzlG  RES_W35SEzlG  JD_W35SEzlG  No Fit    2021-10-15      No Fit\n",
       "4  LABEL_kQiZZseA  RES_kQiZZseA  JD_kQiZZseA  No Fit    2021-06-16      No Fit"
      ]
     },
     "execution_count": 362,
     "metadata": {},
     "output_type": "execute_result"
    }
   ],
   "source": [
    "df_silver_label.head(5)"
   ]
  },
  {
   "cell_type": "markdown",
   "id": "f4886224-7947-484a-86af-1fa90b29e58a",
   "metadata": {},
   "source": [
    "# GOLD"
   ]
  },
  {
   "cell_type": "markdown",
   "id": "72c5416e",
   "metadata": {},
   "source": [
    "## Get scores"
   ]
  },
  {
   "cell_type": "code",
   "execution_count": null,
   "id": "52d6567a",
   "metadata": {},
   "outputs": [],
   "source": [
    "embedding_model = GoogleGenerativeAIEmbeddings(\n",
    "    model=\"models/text-embedding-004\", task_type=\"SEMANTIC_SIMILARITY\"\n",
    ")"
   ]
  },
  {
   "cell_type": "code",
   "execution_count": null,
   "id": "1f948ccd",
   "metadata": {},
   "outputs": [],
   "source": [
    "embeddings_required_skills = embedding_model.embed_documents(parsed_jd.required_hard_skills)\n",
    "embeddings_skills_owned = embedding_model.embed_documents(parsed_resume.hard_skills)"
   ]
  },
  {
   "cell_type": "code",
   "execution_count": null,
   "id": "93af6e52",
   "metadata": {},
   "outputs": [],
   "source": [
    "required_skills = np.array(embeddings_required_skills)\n",
    "skills_owned = np.array(embeddings_skills_owned)\n",
    "\n",
    "# Normalize embeddings to unit vectors (L2 norm)\n",
    "required_skills = required_skills / np.linalg.norm(required_skills, axis=1, keepdims=True)\n",
    "skills_owned = skills_owned / np.linalg.norm(skills_owned, axis=1, keepdims=True)\n",
    "\n",
    "# Compute cosine similarity matrix by dot product\n",
    "similarity_matrix = np.dot(required_skills, skills_owned.T)"
   ]
  },
  {
   "cell_type": "code",
   "execution_count": null,
   "id": "4ae5fdef",
   "metadata": {},
   "outputs": [],
   "source": [
    "best_matches = []\n",
    "\n",
    "for i, req_skill in enumerate(parsed_jd.required_hard_skills):\n",
    "    j = similarity_matrix[i].argmax()\n",
    "    score = similarity_matrix[i, j]\n",
    "    if score >= 0.6:\n",
    "        best_matches.append((req_skill, parsed_resume.hard_skills[j], score))\n",
    "\n",
    "# Print\n",
    "for req_skill, own_skill, score in best_matches:\n",
    "    print(f\"Required: {req_skill}  <=> Best Owned: {own_skill}  | Similarity: {score:.2f}\")"
   ]
  },
  {
   "cell_type": "code",
   "execution_count": null,
   "id": "991dbf3d",
   "metadata": {},
   "outputs": [],
   "source": [
    "embeddings_role_name = embedding_model.embed_query(parsed_jd.role_title)\n",
    "embeddings_experience_titles = embedding_model.embed_documents([exp.role for exp in parsed_resume.experience])"
   ]
  },
  {
   "cell_type": "code",
   "execution_count": null,
   "id": "65b9e94a",
   "metadata": {},
   "outputs": [],
   "source": [
    "parsed_jd.role_title"
   ]
  },
  {
   "cell_type": "code",
   "execution_count": null,
   "id": "b4e5d683",
   "metadata": {},
   "outputs": [],
   "source": [
    "[exp.role for exp in parsed_resume.experience]"
   ]
  },
  {
   "cell_type": "code",
   "execution_count": null,
   "id": "31d693a9",
   "metadata": {},
   "outputs": [],
   "source": [
    "role_name = np.array(embeddings_role_name)\n",
    "experiences = np.array(embeddings_experience_titles)\n",
    "\n",
    "# Normalize embeddings to unit vectors (L2 norm)\n",
    "role_name = role_name / np.linalg.norm(role_name)\n",
    "experiences = experiences / np.linalg.norm(experiences, axis=1, keepdims=True)\n",
    "\n",
    "# Compute cosine similarity matrix by dot product\n",
    "similarity_matrix = np.dot(experiences, role_name.T)"
   ]
  },
  {
   "cell_type": "code",
   "execution_count": null,
   "id": "e5a979df",
   "metadata": {},
   "outputs": [],
   "source": [
    "similarity_matrix"
   ]
  }
 ],
 "metadata": {
  "kernelspec": {
   "display_name": "Python 3 (ipykernel)",
   "language": "python",
   "name": "python3"
  },
  "language_info": {
   "codemirror_mode": {
    "name": "ipython",
    "version": 3
   },
   "file_extension": ".py",
   "mimetype": "text/x-python",
   "name": "python",
   "nbconvert_exporter": "python",
   "pygments_lexer": "ipython3",
   "version": "3.12.11"
  }
 },
 "nbformat": 4,
 "nbformat_minor": 5
}
